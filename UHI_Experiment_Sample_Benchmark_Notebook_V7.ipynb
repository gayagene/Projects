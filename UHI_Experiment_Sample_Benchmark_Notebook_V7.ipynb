{
  "cells": [
    {
      "cell_type": "markdown",
      "metadata": {
        "id": "vXWnoyvAadGy"
      },
      "source": [
        "# Urban Heat Island (UHI) Benchmark Notebook"
      ]
    },
    {
      "cell_type": "markdown",
      "metadata": {
        "id": "SdUUesEsadGz"
      },
      "source": [
        "## Challenge Overview"
      ]
    },
    {
      "cell_type": "markdown",
      "metadata": {
        "id": "IGjoJ_N4adGz"
      },
      "source": [
        "<p align=\"justify\">Welcome to the EY Open Science AI & Data Challenge 2025! The objective of this challenge is to build a machine learning model to predict urban heat island (UHI) hotspots in a city. By the end of the challenge, you will have developed a regression model capable of predicting the intensity of the UHI effect.\n",
        "\n",
        "Participants will be given ground-level air temperature data in an index format, which was collected on 24th July 2021 on traverse points in the Bronx and Manhattan regions of New York city. This dataset constitutes traverse points (latitude and longitude) and their corresponding UHI (Urban Heat Island) index values. Participants will use this dataset to build a regression model to predict UHI index values for a given set of locations. It is important to understand that the UHI Index at any given location is indicative of the relative temperature elevation at that specific point compared to the city's average temperature.\n",
        "\n",
        "This challenge is designed for participants with varying skill levels in data science and programming, offering a great opportunity to apply your knowledge and enhance your capabilities in the field.</p>"
      ]
    },
    {
      "cell_type": "markdown",
      "metadata": {
        "id": "Egd4Sv-OadGz"
      },
      "source": [
        "<b>Challenge Aim: </b><p align=\"justify\"> <p>"
      ]
    },
    {
      "cell_type": "markdown",
      "metadata": {
        "id": "aKGLDcNAadGz"
      },
      "source": [
        "<p align=\"justify\">In this notebook, we will demonstrate a basic model workflow that can serve as a starting point for the challenge. The basic model has been constructed to predict the Urban Heat Island (UHI) index using features from the Sentinel-2 satellite dataset as predictor variables. In this demonstration, we utilized three features from the Sentinel-2 dataset: band B01 (Coastal Aerosol), band B06 (Red Edge), and NDVI (Normalized Difference Vegetation Index) derived from bands B04 (Red) and B08 (Near Infrared). A random forest regression model was then trained using these features.\n",
        "    \n",
        "These features were extracted from a GeoTIFF image created by the Sentinel-2 sample notebook. For the sample model shown in this notebook, data from a single day (24th July 2021) was considered, assuming that the values of bands B01, B04, B06, and B08 for this specific date are representative of the UHI index behavior at any location. Participants should review the details of the Sentinel-2 sample notebook to gain an understanding of the data and options for modifying the output product.\n",
        "    \n",
        "</p>\n",
        "\n",
        "<p align=\"justify\">Most of the functions presented in this notebook were adapted from the <a href=\"https://planetarycomputer.microsoft.com/dataset/sentinel-2-l2a#Example-Notebook\">Sentinel-2-Level-2A notebook</a> found in the Planetary Computer portal.</p>\n",
        "\n",
        "<p align=\"justify\">Please note that this notebook is just a starting point. We have made many assumptions in this notebook that you may think are not best for solving the challenge effectively. You are encouraged to modify these functions, rewrite them, or try an entirely new approach.</p>\n"
      ]
    },
    {
      "cell_type": "markdown",
      "metadata": {
        "id": "V1K3lHuqadG0"
      },
      "source": [
        "## Load In Dependencies"
      ]
    },
    {
      "cell_type": "markdown",
      "metadata": {
        "id": "PCnaFbKzadG0"
      },
      "source": [
        "To run this demonstration notebook, you will need to have the following packages imported below installed. This may take some time.  "
      ]
    },
    {
      "cell_type": "code",
      "source": [
        "!pip install planetary-computer\n",
        "!pip install pystac-client\n",
        "!pip install rioxarray\n"
      ],
      "metadata": {
        "colab": {
          "base_uri": "https://localhost:8080/"
        },
        "id": "xrsXS1Viah0p",
        "outputId": "deb7741e-f6d4-441e-f480-2ae8bc466814"
      },
      "execution_count": 2,
      "outputs": [
        {
          "output_type": "stream",
          "name": "stdout",
          "text": [
            "Collecting planetary-computer\n",
            "  Downloading planetary_computer-1.0.0-py3-none-any.whl.metadata (7.4 kB)\n",
            "Requirement already satisfied: click>=7.1 in /usr/local/lib/python3.11/dist-packages (from planetary-computer) (8.1.8)\n",
            "Requirement already satisfied: pydantic>=1.7.3 in /usr/local/lib/python3.11/dist-packages (from planetary-computer) (2.10.6)\n",
            "Collecting pystac>=1.0.0 (from planetary-computer)\n",
            "  Downloading pystac-1.12.1-py3-none-any.whl.metadata (4.6 kB)\n",
            "Collecting pystac-client>=0.2.0 (from planetary-computer)\n",
            "  Downloading pystac_client-0.8.6-py3-none-any.whl.metadata (3.0 kB)\n",
            "Requirement already satisfied: pytz>=2020.5 in /usr/local/lib/python3.11/dist-packages (from planetary-computer) (2025.1)\n",
            "Requirement already satisfied: requests>=2.25.1 in /usr/local/lib/python3.11/dist-packages (from planetary-computer) (2.32.3)\n",
            "Requirement already satisfied: packaging in /usr/local/lib/python3.11/dist-packages (from planetary-computer) (24.2)\n",
            "Collecting python-dotenv (from planetary-computer)\n",
            "  Downloading python_dotenv-1.0.1-py3-none-any.whl.metadata (23 kB)\n",
            "Requirement already satisfied: annotated-types>=0.6.0 in /usr/local/lib/python3.11/dist-packages (from pydantic>=1.7.3->planetary-computer) (0.7.0)\n",
            "Requirement already satisfied: pydantic-core==2.27.2 in /usr/local/lib/python3.11/dist-packages (from pydantic>=1.7.3->planetary-computer) (2.27.2)\n",
            "Requirement already satisfied: typing-extensions>=4.12.2 in /usr/local/lib/python3.11/dist-packages (from pydantic>=1.7.3->planetary-computer) (4.12.2)\n",
            "Requirement already satisfied: python-dateutil>=2.7.0 in /usr/local/lib/python3.11/dist-packages (from pystac>=1.0.0->planetary-computer) (2.8.2)\n",
            "Requirement already satisfied: charset-normalizer<4,>=2 in /usr/local/lib/python3.11/dist-packages (from requests>=2.25.1->planetary-computer) (3.4.1)\n",
            "Requirement already satisfied: idna<4,>=2.5 in /usr/local/lib/python3.11/dist-packages (from requests>=2.25.1->planetary-computer) (3.10)\n",
            "Requirement already satisfied: urllib3<3,>=1.21.1 in /usr/local/lib/python3.11/dist-packages (from requests>=2.25.1->planetary-computer) (2.3.0)\n",
            "Requirement already satisfied: certifi>=2017.4.17 in /usr/local/lib/python3.11/dist-packages (from requests>=2.25.1->planetary-computer) (2025.1.31)\n",
            "Requirement already satisfied: jsonschema~=4.18 in /usr/local/lib/python3.11/dist-packages (from pystac[validation]>=1.10.0->pystac-client>=0.2.0->planetary-computer) (4.23.0)\n",
            "Requirement already satisfied: six>=1.5 in /usr/local/lib/python3.11/dist-packages (from python-dateutil>=2.7.0->pystac>=1.0.0->planetary-computer) (1.17.0)\n",
            "Requirement already satisfied: attrs>=22.2.0 in /usr/local/lib/python3.11/dist-packages (from jsonschema~=4.18->pystac[validation]>=1.10.0->pystac-client>=0.2.0->planetary-computer) (25.1.0)\n",
            "Requirement already satisfied: jsonschema-specifications>=2023.03.6 in /usr/local/lib/python3.11/dist-packages (from jsonschema~=4.18->pystac[validation]>=1.10.0->pystac-client>=0.2.0->planetary-computer) (2024.10.1)\n",
            "Requirement already satisfied: referencing>=0.28.4 in /usr/local/lib/python3.11/dist-packages (from jsonschema~=4.18->pystac[validation]>=1.10.0->pystac-client>=0.2.0->planetary-computer) (0.36.2)\n",
            "Requirement already satisfied: rpds-py>=0.7.1 in /usr/local/lib/python3.11/dist-packages (from jsonschema~=4.18->pystac[validation]>=1.10.0->pystac-client>=0.2.0->planetary-computer) (0.22.3)\n",
            "Downloading planetary_computer-1.0.0-py3-none-any.whl (14 kB)\n",
            "Downloading pystac-1.12.1-py3-none-any.whl (194 kB)\n",
            "\u001b[2K   \u001b[90m━━━━━━━━━━━━━━━━━━━━━━━━━━━━━━━━━━━━━━━━\u001b[0m \u001b[32m194.2/194.2 kB\u001b[0m \u001b[31m7.3 MB/s\u001b[0m eta \u001b[36m0:00:00\u001b[0m\n",
            "\u001b[?25hDownloading pystac_client-0.8.6-py3-none-any.whl (41 kB)\n",
            "\u001b[2K   \u001b[90m━━━━━━━━━━━━━━━━━━━━━━━━━━━━━━━━━━━━━━━━\u001b[0m \u001b[32m41.4/41.4 kB\u001b[0m \u001b[31m4.0 MB/s\u001b[0m eta \u001b[36m0:00:00\u001b[0m\n",
            "\u001b[?25hDownloading python_dotenv-1.0.1-py3-none-any.whl (19 kB)\n",
            "Installing collected packages: python-dotenv, pystac, pystac-client, planetary-computer\n",
            "Successfully installed planetary-computer-1.0.0 pystac-1.12.1 pystac-client-0.8.6 python-dotenv-1.0.1\n",
            "Requirement already satisfied: pystac-client in /usr/local/lib/python3.11/dist-packages (0.8.6)\n",
            "Requirement already satisfied: requests>=2.28.2 in /usr/local/lib/python3.11/dist-packages (from pystac-client) (2.32.3)\n",
            "Requirement already satisfied: pystac>=1.10.0 in /usr/local/lib/python3.11/dist-packages (from pystac[validation]>=1.10.0->pystac-client) (1.12.1)\n",
            "Requirement already satisfied: python-dateutil>=2.8.2 in /usr/local/lib/python3.11/dist-packages (from pystac-client) (2.8.2)\n",
            "Requirement already satisfied: jsonschema~=4.18 in /usr/local/lib/python3.11/dist-packages (from pystac[validation]>=1.10.0->pystac-client) (4.23.0)\n",
            "Requirement already satisfied: six>=1.5 in /usr/local/lib/python3.11/dist-packages (from python-dateutil>=2.8.2->pystac-client) (1.17.0)\n",
            "Requirement already satisfied: charset-normalizer<4,>=2 in /usr/local/lib/python3.11/dist-packages (from requests>=2.28.2->pystac-client) (3.4.1)\n",
            "Requirement already satisfied: idna<4,>=2.5 in /usr/local/lib/python3.11/dist-packages (from requests>=2.28.2->pystac-client) (3.10)\n",
            "Requirement already satisfied: urllib3<3,>=1.21.1 in /usr/local/lib/python3.11/dist-packages (from requests>=2.28.2->pystac-client) (2.3.0)\n",
            "Requirement already satisfied: certifi>=2017.4.17 in /usr/local/lib/python3.11/dist-packages (from requests>=2.28.2->pystac-client) (2025.1.31)\n",
            "Requirement already satisfied: attrs>=22.2.0 in /usr/local/lib/python3.11/dist-packages (from jsonschema~=4.18->pystac[validation]>=1.10.0->pystac-client) (25.1.0)\n",
            "Requirement already satisfied: jsonschema-specifications>=2023.03.6 in /usr/local/lib/python3.11/dist-packages (from jsonschema~=4.18->pystac[validation]>=1.10.0->pystac-client) (2024.10.1)\n",
            "Requirement already satisfied: referencing>=0.28.4 in /usr/local/lib/python3.11/dist-packages (from jsonschema~=4.18->pystac[validation]>=1.10.0->pystac-client) (0.36.2)\n",
            "Requirement already satisfied: rpds-py>=0.7.1 in /usr/local/lib/python3.11/dist-packages (from jsonschema~=4.18->pystac[validation]>=1.10.0->pystac-client) (0.22.3)\n",
            "Requirement already satisfied: typing-extensions>=4.4.0 in /usr/local/lib/python3.11/dist-packages (from referencing>=0.28.4->jsonschema~=4.18->pystac[validation]>=1.10.0->pystac-client) (4.12.2)\n",
            "Collecting rioxarray\n",
            "  Downloading rioxarray-0.18.2-py3-none-any.whl.metadata (5.4 kB)\n",
            "Requirement already satisfied: packaging in /usr/local/lib/python3.11/dist-packages (from rioxarray) (24.2)\n",
            "Collecting rasterio>=1.3.7 (from rioxarray)\n",
            "  Downloading rasterio-1.4.3-cp311-cp311-manylinux_2_17_x86_64.manylinux2014_x86_64.whl.metadata (9.1 kB)\n",
            "Requirement already satisfied: xarray>=2024.7.0 in /usr/local/lib/python3.11/dist-packages (from rioxarray) (2025.1.2)\n",
            "Requirement already satisfied: pyproj>=3.3 in /usr/local/lib/python3.11/dist-packages (from rioxarray) (3.7.0)\n",
            "Requirement already satisfied: numpy>=1.23 in /usr/local/lib/python3.11/dist-packages (from rioxarray) (1.26.4)\n",
            "Requirement already satisfied: certifi in /usr/local/lib/python3.11/dist-packages (from pyproj>=3.3->rioxarray) (2025.1.31)\n",
            "Collecting affine (from rasterio>=1.3.7->rioxarray)\n",
            "  Downloading affine-2.4.0-py3-none-any.whl.metadata (4.0 kB)\n",
            "Requirement already satisfied: attrs in /usr/local/lib/python3.11/dist-packages (from rasterio>=1.3.7->rioxarray) (25.1.0)\n",
            "Requirement already satisfied: click>=4.0 in /usr/local/lib/python3.11/dist-packages (from rasterio>=1.3.7->rioxarray) (8.1.8)\n",
            "Collecting cligj>=0.5 (from rasterio>=1.3.7->rioxarray)\n",
            "  Downloading cligj-0.7.2-py3-none-any.whl.metadata (5.0 kB)\n",
            "Collecting click-plugins (from rasterio>=1.3.7->rioxarray)\n",
            "  Downloading click_plugins-1.1.1-py2.py3-none-any.whl.metadata (6.4 kB)\n",
            "Requirement already satisfied: pyparsing in /usr/local/lib/python3.11/dist-packages (from rasterio>=1.3.7->rioxarray) (3.2.1)\n",
            "Requirement already satisfied: pandas>=2.1 in /usr/local/lib/python3.11/dist-packages (from xarray>=2024.7.0->rioxarray) (2.2.2)\n",
            "Requirement already satisfied: python-dateutil>=2.8.2 in /usr/local/lib/python3.11/dist-packages (from pandas>=2.1->xarray>=2024.7.0->rioxarray) (2.8.2)\n",
            "Requirement already satisfied: pytz>=2020.1 in /usr/local/lib/python3.11/dist-packages (from pandas>=2.1->xarray>=2024.7.0->rioxarray) (2025.1)\n",
            "Requirement already satisfied: tzdata>=2022.7 in /usr/local/lib/python3.11/dist-packages (from pandas>=2.1->xarray>=2024.7.0->rioxarray) (2025.1)\n",
            "Requirement already satisfied: six>=1.5 in /usr/local/lib/python3.11/dist-packages (from python-dateutil>=2.8.2->pandas>=2.1->xarray>=2024.7.0->rioxarray) (1.17.0)\n",
            "Downloading rioxarray-0.18.2-py3-none-any.whl (61 kB)\n",
            "\u001b[2K   \u001b[90m━━━━━━━━━━━━━━━━━━━━━━━━━━━━━━━━━━━━━━━━\u001b[0m \u001b[32m61.9/61.9 kB\u001b[0m \u001b[31m2.6 MB/s\u001b[0m eta \u001b[36m0:00:00\u001b[0m\n",
            "\u001b[?25hDownloading rasterio-1.4.3-cp311-cp311-manylinux_2_17_x86_64.manylinux2014_x86_64.whl (22.2 MB)\n",
            "\u001b[2K   \u001b[90m━━━━━━━━━━━━━━━━━━━━━━━━━━━━━━━━━━━━━━━━\u001b[0m \u001b[32m22.2/22.2 MB\u001b[0m \u001b[31m24.6 MB/s\u001b[0m eta \u001b[36m0:00:00\u001b[0m\n",
            "\u001b[?25hDownloading cligj-0.7.2-py3-none-any.whl (7.1 kB)\n",
            "Downloading affine-2.4.0-py3-none-any.whl (15 kB)\n",
            "Downloading click_plugins-1.1.1-py2.py3-none-any.whl (7.5 kB)\n",
            "Installing collected packages: cligj, click-plugins, affine, rasterio, rioxarray\n",
            "Successfully installed affine-2.4.0 click-plugins-1.1.1 cligj-0.7.2 rasterio-1.4.3 rioxarray-0.18.2\n"
          ]
        }
      ]
    },
    {
      "cell_type": "code",
      "execution_count": 3,
      "metadata": {
        "id": "OdD1A968adG0"
      },
      "outputs": [],
      "source": [
        "# Supress Warnings\n",
        "import warnings\n",
        "warnings.filterwarnings('ignore')\n",
        "\n",
        "# Visualization\n",
        "import matplotlib.pyplot as plt\n",
        "import seaborn as sns\n",
        "\n",
        "# Data Science\n",
        "import numpy as np\n",
        "import pandas as pd\n",
        "\n",
        "# Multi-dimensional arrays and datasets\n",
        "import xarray as xr\n",
        "\n",
        "# Geospatial raster data handling\n",
        "import rioxarray as rxr\n",
        "\n",
        "# Geospatial data analysis\n",
        "import geopandas as gpd\n",
        "\n",
        "# Geospatial operations\n",
        "import rasterio\n",
        "from rasterio import windows\n",
        "from rasterio import features\n",
        "from rasterio import warp\n",
        "from rasterio.warp import transform_bounds\n",
        "from rasterio.windows import from_bounds\n",
        "\n",
        "# Image Processing\n",
        "from PIL import Image\n",
        "\n",
        "# Coordinate transformations\n",
        "from pyproj import Proj, Transformer, CRS\n",
        "\n",
        "# Feature Engineering\n",
        "from sklearn.preprocessing import StandardScaler\n",
        "from sklearn.model_selection import train_test_split\n",
        "\n",
        "# Machine Learning\n",
        "from sklearn.ensemble import RandomForestRegressor\n",
        "from sklearn.metrics import r2_score\n",
        "\n",
        "# Planetary Computer Tools\n",
        "import pystac_client\n",
        "import planetary_computer as pc\n",
        "from pystac.extensions.eo import EOExtension as eo\n",
        "\n",
        "# Others\n",
        "import os\n",
        "from tqdm import tqdm\n",
        "\n"
      ]
    },
    {
      "cell_type": "markdown",
      "metadata": {
        "id": "bOogbAh6adG0"
      },
      "source": [
        "## Response Variable"
      ]
    },
    {
      "cell_type": "markdown",
      "metadata": {
        "id": "Y3VjznAeadG0"
      },
      "source": [
        "Before building the model, we need to load in the Urban Heat Island (UHI) index training dataset. We have curated data for the New York region. The dataset consists of geo-locations (Longitude and Latitude), with additional fields including date & time of data collection and the UHI index for each location."
      ]
    },
    {
      "cell_type": "markdown",
      "metadata": {
        "id": "RI0w3TqYadG1"
      },
      "source": [
        "<h10 style=\"color:rgb(255, 255, 0)\"><strong>Note: Participants are strictly prohibited from using Longitude and Latitude values as features in building their machine learning models. These values should only be utilized for understanding the attributes and characteristics of the locations. Submissions that employ longitude and latitude values as model features will be disqualified.</strong></h10>"
      ]
    },
    {
      "cell_type": "markdown",
      "metadata": {
        "id": "ioQPA2nsadG1"
      },
      "source": [
        "<h10 style=\"color:rgb(255, 255, 0)\"><strong>Incorporating latitude and longitude data in their raw forms or through any form of manipulation—including multiplication, embedding, or conversion to polar coordinates—as predictive features in your model is strictly prohibited, as it can compromise the adaptability of your model across diverse scenarios. This prohibition extends to calculating the distance from a reference point and using it as a feature, which is essentially a transformation of the original geographical coordinates into a new feature form. Submissions that include these types of features will be considered non-compliant and will be disqualified.</strong></h10>"
      ]
    },
    {
      "cell_type": "code",
      "source": [
        "import os\n",
        "print(os.getcwd())  # Check the current working directory\n",
        "print(os.listdir()) # List files in the directory\n"
      ],
      "metadata": {
        "id": "eGTRlijmf2OJ",
        "outputId": "958ab2fd-fa47-4d3d-b17b-24d62dee5b3e",
        "colab": {
          "base_uri": "https://localhost:8080/"
        }
      },
      "execution_count": 8,
      "outputs": [
        {
          "output_type": "stream",
          "name": "stdout",
          "text": [
            "/content\n",
            "['.config', 'sample_data']\n"
          ]
        }
      ]
    },
    {
      "cell_type": "code",
      "source": [
        "!wget https://raw.githubusercontent.com/gayagene/Projects/main/Training_data_uhi_index.csv\n",
        "import pandas as pd\n",
        "ground_df = pd.read_csv(\"Training_data_uhi_index.csv\")\n",
        "ground_df.head()"
      ],
      "metadata": {
        "id": "l9tZaD3dht-M",
        "outputId": "48bdccb7-e035-4357-939e-11e41d5d87f3",
        "colab": {
          "base_uri": "https://localhost:8080/",
          "height": 397
        }
      },
      "execution_count": 9,
      "outputs": [
        {
          "output_type": "stream",
          "name": "stdout",
          "text": [
            "--2025-02-18 05:27:57--  https://raw.githubusercontent.com/gayagene/Projects/main/Training_data_uhi_index.csv\n",
            "Resolving raw.githubusercontent.com (raw.githubusercontent.com)... 185.199.108.133, 185.199.109.133, 185.199.110.133, ...\n",
            "Connecting to raw.githubusercontent.com (raw.githubusercontent.com)|185.199.108.133|:443... connected.\n",
            "HTTP request sent, awaiting response... 200 OK\n",
            "Length: 599890 (586K) [text/plain]\n",
            "Saving to: ‘Training_data_uhi_index.csv’\n",
            "\n",
            "Training_data_uhi_i 100%[===================>] 585.83K  --.-KB/s    in 0.06s   \n",
            "\n",
            "2025-02-18 05:27:58 (9.90 MB/s) - ‘Training_data_uhi_index.csv’ saved [599890/599890]\n",
            "\n"
          ]
        },
        {
          "output_type": "execute_result",
          "data": {
            "text/plain": [
              "   Longitude   Latitude          datetime  UHI Index\n",
              "0 -73.919037  40.814292  24-07-2021 15:53   1.034616\n",
              "1 -73.918978  40.814365  24-07-2021 15:53   1.028125\n",
              "2 -73.918927  40.814433  24-07-2021 15:53   1.028125\n",
              "3 -73.918875  40.814500  24-07-2021 15:53   1.025961\n",
              "4 -73.918827  40.814560  24-07-2021 15:53   1.025961"
            ],
            "text/html": [
              "\n",
              "  <div id=\"df-a8478d59-450f-487d-8c65-953a46e5e9b7\" class=\"colab-df-container\">\n",
              "    <div>\n",
              "<style scoped>\n",
              "    .dataframe tbody tr th:only-of-type {\n",
              "        vertical-align: middle;\n",
              "    }\n",
              "\n",
              "    .dataframe tbody tr th {\n",
              "        vertical-align: top;\n",
              "    }\n",
              "\n",
              "    .dataframe thead th {\n",
              "        text-align: right;\n",
              "    }\n",
              "</style>\n",
              "<table border=\"1\" class=\"dataframe\">\n",
              "  <thead>\n",
              "    <tr style=\"text-align: right;\">\n",
              "      <th></th>\n",
              "      <th>Longitude</th>\n",
              "      <th>Latitude</th>\n",
              "      <th>datetime</th>\n",
              "      <th>UHI Index</th>\n",
              "    </tr>\n",
              "  </thead>\n",
              "  <tbody>\n",
              "    <tr>\n",
              "      <th>0</th>\n",
              "      <td>-73.919037</td>\n",
              "      <td>40.814292</td>\n",
              "      <td>24-07-2021 15:53</td>\n",
              "      <td>1.034616</td>\n",
              "    </tr>\n",
              "    <tr>\n",
              "      <th>1</th>\n",
              "      <td>-73.918978</td>\n",
              "      <td>40.814365</td>\n",
              "      <td>24-07-2021 15:53</td>\n",
              "      <td>1.028125</td>\n",
              "    </tr>\n",
              "    <tr>\n",
              "      <th>2</th>\n",
              "      <td>-73.918927</td>\n",
              "      <td>40.814433</td>\n",
              "      <td>24-07-2021 15:53</td>\n",
              "      <td>1.028125</td>\n",
              "    </tr>\n",
              "    <tr>\n",
              "      <th>3</th>\n",
              "      <td>-73.918875</td>\n",
              "      <td>40.814500</td>\n",
              "      <td>24-07-2021 15:53</td>\n",
              "      <td>1.025961</td>\n",
              "    </tr>\n",
              "    <tr>\n",
              "      <th>4</th>\n",
              "      <td>-73.918827</td>\n",
              "      <td>40.814560</td>\n",
              "      <td>24-07-2021 15:53</td>\n",
              "      <td>1.025961</td>\n",
              "    </tr>\n",
              "  </tbody>\n",
              "</table>\n",
              "</div>\n",
              "    <div class=\"colab-df-buttons\">\n",
              "\n",
              "  <div class=\"colab-df-container\">\n",
              "    <button class=\"colab-df-convert\" onclick=\"convertToInteractive('df-a8478d59-450f-487d-8c65-953a46e5e9b7')\"\n",
              "            title=\"Convert this dataframe to an interactive table.\"\n",
              "            style=\"display:none;\">\n",
              "\n",
              "  <svg xmlns=\"http://www.w3.org/2000/svg\" height=\"24px\" viewBox=\"0 -960 960 960\">\n",
              "    <path d=\"M120-120v-720h720v720H120Zm60-500h600v-160H180v160Zm220 220h160v-160H400v160Zm0 220h160v-160H400v160ZM180-400h160v-160H180v160Zm440 0h160v-160H620v160ZM180-180h160v-160H180v160Zm440 0h160v-160H620v160Z\"/>\n",
              "  </svg>\n",
              "    </button>\n",
              "\n",
              "  <style>\n",
              "    .colab-df-container {\n",
              "      display:flex;\n",
              "      gap: 12px;\n",
              "    }\n",
              "\n",
              "    .colab-df-convert {\n",
              "      background-color: #E8F0FE;\n",
              "      border: none;\n",
              "      border-radius: 50%;\n",
              "      cursor: pointer;\n",
              "      display: none;\n",
              "      fill: #1967D2;\n",
              "      height: 32px;\n",
              "      padding: 0 0 0 0;\n",
              "      width: 32px;\n",
              "    }\n",
              "\n",
              "    .colab-df-convert:hover {\n",
              "      background-color: #E2EBFA;\n",
              "      box-shadow: 0px 1px 2px rgba(60, 64, 67, 0.3), 0px 1px 3px 1px rgba(60, 64, 67, 0.15);\n",
              "      fill: #174EA6;\n",
              "    }\n",
              "\n",
              "    .colab-df-buttons div {\n",
              "      margin-bottom: 4px;\n",
              "    }\n",
              "\n",
              "    [theme=dark] .colab-df-convert {\n",
              "      background-color: #3B4455;\n",
              "      fill: #D2E3FC;\n",
              "    }\n",
              "\n",
              "    [theme=dark] .colab-df-convert:hover {\n",
              "      background-color: #434B5C;\n",
              "      box-shadow: 0px 1px 3px 1px rgba(0, 0, 0, 0.15);\n",
              "      filter: drop-shadow(0px 1px 2px rgba(0, 0, 0, 0.3));\n",
              "      fill: #FFFFFF;\n",
              "    }\n",
              "  </style>\n",
              "\n",
              "    <script>\n",
              "      const buttonEl =\n",
              "        document.querySelector('#df-a8478d59-450f-487d-8c65-953a46e5e9b7 button.colab-df-convert');\n",
              "      buttonEl.style.display =\n",
              "        google.colab.kernel.accessAllowed ? 'block' : 'none';\n",
              "\n",
              "      async function convertToInteractive(key) {\n",
              "        const element = document.querySelector('#df-a8478d59-450f-487d-8c65-953a46e5e9b7');\n",
              "        const dataTable =\n",
              "          await google.colab.kernel.invokeFunction('convertToInteractive',\n",
              "                                                    [key], {});\n",
              "        if (!dataTable) return;\n",
              "\n",
              "        const docLinkHtml = 'Like what you see? Visit the ' +\n",
              "          '<a target=\"_blank\" href=https://colab.research.google.com/notebooks/data_table.ipynb>data table notebook</a>'\n",
              "          + ' to learn more about interactive tables.';\n",
              "        element.innerHTML = '';\n",
              "        dataTable['output_type'] = 'display_data';\n",
              "        await google.colab.output.renderOutput(dataTable, element);\n",
              "        const docLink = document.createElement('div');\n",
              "        docLink.innerHTML = docLinkHtml;\n",
              "        element.appendChild(docLink);\n",
              "      }\n",
              "    </script>\n",
              "  </div>\n",
              "\n",
              "\n",
              "<div id=\"df-c567c483-cc28-4b1a-a28d-1534feec9fcc\">\n",
              "  <button class=\"colab-df-quickchart\" onclick=\"quickchart('df-c567c483-cc28-4b1a-a28d-1534feec9fcc')\"\n",
              "            title=\"Suggest charts\"\n",
              "            style=\"display:none;\">\n",
              "\n",
              "<svg xmlns=\"http://www.w3.org/2000/svg\" height=\"24px\"viewBox=\"0 0 24 24\"\n",
              "     width=\"24px\">\n",
              "    <g>\n",
              "        <path d=\"M19 3H5c-1.1 0-2 .9-2 2v14c0 1.1.9 2 2 2h14c1.1 0 2-.9 2-2V5c0-1.1-.9-2-2-2zM9 17H7v-7h2v7zm4 0h-2V7h2v10zm4 0h-2v-4h2v4z\"/>\n",
              "    </g>\n",
              "</svg>\n",
              "  </button>\n",
              "\n",
              "<style>\n",
              "  .colab-df-quickchart {\n",
              "      --bg-color: #E8F0FE;\n",
              "      --fill-color: #1967D2;\n",
              "      --hover-bg-color: #E2EBFA;\n",
              "      --hover-fill-color: #174EA6;\n",
              "      --disabled-fill-color: #AAA;\n",
              "      --disabled-bg-color: #DDD;\n",
              "  }\n",
              "\n",
              "  [theme=dark] .colab-df-quickchart {\n",
              "      --bg-color: #3B4455;\n",
              "      --fill-color: #D2E3FC;\n",
              "      --hover-bg-color: #434B5C;\n",
              "      --hover-fill-color: #FFFFFF;\n",
              "      --disabled-bg-color: #3B4455;\n",
              "      --disabled-fill-color: #666;\n",
              "  }\n",
              "\n",
              "  .colab-df-quickchart {\n",
              "    background-color: var(--bg-color);\n",
              "    border: none;\n",
              "    border-radius: 50%;\n",
              "    cursor: pointer;\n",
              "    display: none;\n",
              "    fill: var(--fill-color);\n",
              "    height: 32px;\n",
              "    padding: 0;\n",
              "    width: 32px;\n",
              "  }\n",
              "\n",
              "  .colab-df-quickchart:hover {\n",
              "    background-color: var(--hover-bg-color);\n",
              "    box-shadow: 0 1px 2px rgba(60, 64, 67, 0.3), 0 1px 3px 1px rgba(60, 64, 67, 0.15);\n",
              "    fill: var(--button-hover-fill-color);\n",
              "  }\n",
              "\n",
              "  .colab-df-quickchart-complete:disabled,\n",
              "  .colab-df-quickchart-complete:disabled:hover {\n",
              "    background-color: var(--disabled-bg-color);\n",
              "    fill: var(--disabled-fill-color);\n",
              "    box-shadow: none;\n",
              "  }\n",
              "\n",
              "  .colab-df-spinner {\n",
              "    border: 2px solid var(--fill-color);\n",
              "    border-color: transparent;\n",
              "    border-bottom-color: var(--fill-color);\n",
              "    animation:\n",
              "      spin 1s steps(1) infinite;\n",
              "  }\n",
              "\n",
              "  @keyframes spin {\n",
              "    0% {\n",
              "      border-color: transparent;\n",
              "      border-bottom-color: var(--fill-color);\n",
              "      border-left-color: var(--fill-color);\n",
              "    }\n",
              "    20% {\n",
              "      border-color: transparent;\n",
              "      border-left-color: var(--fill-color);\n",
              "      border-top-color: var(--fill-color);\n",
              "    }\n",
              "    30% {\n",
              "      border-color: transparent;\n",
              "      border-left-color: var(--fill-color);\n",
              "      border-top-color: var(--fill-color);\n",
              "      border-right-color: var(--fill-color);\n",
              "    }\n",
              "    40% {\n",
              "      border-color: transparent;\n",
              "      border-right-color: var(--fill-color);\n",
              "      border-top-color: var(--fill-color);\n",
              "    }\n",
              "    60% {\n",
              "      border-color: transparent;\n",
              "      border-right-color: var(--fill-color);\n",
              "    }\n",
              "    80% {\n",
              "      border-color: transparent;\n",
              "      border-right-color: var(--fill-color);\n",
              "      border-bottom-color: var(--fill-color);\n",
              "    }\n",
              "    90% {\n",
              "      border-color: transparent;\n",
              "      border-bottom-color: var(--fill-color);\n",
              "    }\n",
              "  }\n",
              "</style>\n",
              "\n",
              "  <script>\n",
              "    async function quickchart(key) {\n",
              "      const quickchartButtonEl =\n",
              "        document.querySelector('#' + key + ' button');\n",
              "      quickchartButtonEl.disabled = true;  // To prevent multiple clicks.\n",
              "      quickchartButtonEl.classList.add('colab-df-spinner');\n",
              "      try {\n",
              "        const charts = await google.colab.kernel.invokeFunction(\n",
              "            'suggestCharts', [key], {});\n",
              "      } catch (error) {\n",
              "        console.error('Error during call to suggestCharts:', error);\n",
              "      }\n",
              "      quickchartButtonEl.classList.remove('colab-df-spinner');\n",
              "      quickchartButtonEl.classList.add('colab-df-quickchart-complete');\n",
              "    }\n",
              "    (() => {\n",
              "      let quickchartButtonEl =\n",
              "        document.querySelector('#df-c567c483-cc28-4b1a-a28d-1534feec9fcc button');\n",
              "      quickchartButtonEl.style.display =\n",
              "        google.colab.kernel.accessAllowed ? 'block' : 'none';\n",
              "    })();\n",
              "  </script>\n",
              "</div>\n",
              "\n",
              "    </div>\n",
              "  </div>\n"
            ],
            "application/vnd.google.colaboratory.intrinsic+json": {
              "type": "dataframe",
              "variable_name": "ground_df",
              "summary": "{\n  \"name\": \"ground_df\",\n  \"rows\": 11269,\n  \"fields\": [\n    {\n      \"column\": \"Longitude\",\n      \"properties\": {\n        \"dtype\": \"number\",\n        \"std\": 0.029086535039970225,\n        \"min\": -73.99445667,\n        \"max\": -73.87945833,\n        \"num_unique_values\": 10105,\n        \"samples\": [\n          -73.90669667,\n          -73.935105,\n          -73.90556833\n        ],\n        \"semantic_type\": \"\",\n        \"description\": \"\"\n      }\n    },\n    {\n      \"column\": \"Latitude\",\n      \"properties\": {\n        \"dtype\": \"number\",\n        \"std\": 0.024115112257610767,\n        \"min\": 40.75879167,\n        \"max\": 40.85949667,\n        \"num_unique_values\": 10072,\n        \"samples\": [\n          40.76218667,\n          40.781565,\n          40.80914833\n        ],\n        \"semantic_type\": \"\",\n        \"description\": \"\"\n      }\n    },\n    {\n      \"column\": \"datetime\",\n      \"properties\": {\n        \"dtype\": \"object\",\n        \"num_unique_values\": 59,\n        \"samples\": [\n          \"24-07-2021 15:53\",\n          \"24-07-2021 15:58\",\n          \"24-07-2021 15:29\"\n        ],\n        \"semantic_type\": \"\",\n        \"description\": \"\"\n      }\n    },\n    {\n      \"column\": \"UHI Index\",\n      \"properties\": {\n        \"dtype\": \"number\",\n        \"std\": 0.015788526019636415,\n        \"min\": 0.956121565,\n        \"max\": 1.046035939,\n        \"num_unique_values\": 571,\n        \"samples\": [\n          1.020912805,\n          0.969224061,\n          0.979080984\n        ],\n        \"semantic_type\": \"\",\n        \"description\": \"\"\n      }\n    }\n  ]\n}"
            }
          },
          "metadata": {},
          "execution_count": 9
        }
      ]
    },
    {
      "cell_type": "markdown",
      "metadata": {
        "id": "9ORe4Q5FadG1"
      },
      "source": [
        "## Predictor Variables"
      ]
    },
    {
      "cell_type": "markdown",
      "metadata": {
        "id": "XRFLLbmEadG1"
      },
      "source": [
        "<p align=\"justify\">Now that we have our UHI data, it is time to gather the predictor variables from the Sentinel-2 dataset. Participants should review the provided Sentinel-2 sample notebook as it was used to create a sample GeoTIFF for this models. For a more in-depth look regarding the Sentinel-2 dataset and how to query it, see the Microsoft Planetary Computer example <a href=\"https://planetarycomputer.microsoft.com/dataset/sentinel-2-l2a#Example-Notebook\">Sentinel-2 supplementary notebook</a>. </p>\n",
        "\n",
        "<p align=\"justify\">Sentinel-2 optical data provides high-resolution imagery that is sensitive to land surface characteristics, which are crucial for understanding urban heat dynamics. Band values such as B01 (Coastal aerosol), B06 (Red Edge), and NDVI (Normalized Difference Vegetation Index) derived from B04 (Red) and B08 (Near Infrared) help us in estimating the UHI index. Hence, we are choosing B01, B06, and NDVI as predictor variables for this experiment.</p>\n",
        "\n",
        "<ul>\n",
        "<li>B01 - Reflectance values from the Coastal aerosol band, which help in assessing aerosol presence and improving atmospheric correction.</li>\n",
        "\n",
        "<li>B06 - Reflectance values from the Red Edge band, which provide useful information for detecting vegetation, water bodies, and urban surfaces.</li>\n",
        "\n",
        "<li>NDVI - Derived from B04 (Red) and B08 (Near Infrared), NDVI is an important indicator for vegetation health and land cover.</li>\n",
        "</ul>\n"
      ]
    },
    {
      "cell_type": "markdown",
      "metadata": {
        "id": "AebDW-JkadG1"
      },
      "source": [
        "<h4 style=\"color:rgb(255, 255, 0)\"><strong>Tip 1</strong></h4>\n",
        "<p align=\"justify\">Participants might explore other combinations of bands from the Sentinel-2 and from other satellite datasets as well. For example, you can use mathematical combinations of bands to generate various indices </a> which can then be used as features in your model. These bands or indices may provide insights into surface characteristics, vegetation, or built-up areas that could influence UHI patterns."
      ]
    },
    {
      "cell_type": "markdown",
      "metadata": {
        "id": "HwN6g2uaadG2"
      },
      "source": [
        "### Analyze the Sentinel-2 Data"
      ]
    },
    {
      "cell_type": "markdown",
      "metadata": {
        "id": "EAFiJurKadG2"
      },
      "source": [
        "<p align=\"justify\">To obtain the Sentinel-2 data, we created a GeoTIFF image for a specific date and area of interest, which in this case is the Bronx and Manhattan regions of New York. The GeoTIFF product allows us to extract the relevant band values. In this example, we extracted B01 (Coastal Aerosol), B04 (Red), B06 (Red Edge), and B08 (Near Infrared) values for a single day (24th July, 2021). Participants should review the provided Sentinel-2 sample notebook for common output images (RGB, NDVI) and methods to alter the output.</p>"
      ]
    },
    {
      "cell_type": "markdown",
      "metadata": {
        "id": "6-U9C7YJadG2"
      },
      "source": [
        "### Methods of Extracting Band Values from Sentinel-2 Data\n",
        "\n",
        "There are two common methods to extract band values from Sentinel-2 data:\n",
        "\n",
        "<ul>\n",
        "    <li><strong>Using API Calls:</strong> Retrieve band values directly from Sentinel-2 datasets via APIs, such as the <code>planetary_computer</code>.</li>\n",
        "</ul>\n",
        "<ul>\n",
        "    <li><strong>Using GeoTIFF Images:</strong> Create and download a GeoTIFF image containing the desired bands and extract the band values locally. The GeoTIFF image can represent any desired time period (single date or time series mosaic) and include any number of spectral bands.</li>\n",
        "</ul>\n",
        "\n",
        "Participants can select any of these approaches as per their convenience. Since our dataset is large, the API method can be time-consuming and resource-intensive. Therefore, in this sample notebook, we have opted for the second method and extracted the values for bands B01, B04, B08, and B06. Please refer to the Sentinel-2 sample notebook for details about the creation of the GeoTIFF image."
      ]
    },
    {
      "cell_type": "markdown",
      "metadata": {
        "id": "6UA9Ixt8adG2"
      },
      "source": [
        "<h4 style=\"color:rgb(255, 255, 0)\"><strong>Tip 2</strong></h4>\n",
        "<p align=\"justify\"> Rather than extracting the bands for a single day coincident with the ground-based data collection, participants might explore other options to improve data quality. For example, one could select a different single date with minimal or no cloud cover or generate a median mosaic using several scenes within a time series. See the Sentinel-2 sample notebook for examples.</p>"
      ]
    },
    {
      "cell_type": "markdown",
      "metadata": {
        "id": "W_JI0NHpadG2"
      },
      "source": [
        "### Downloading GeoTIFF Image"
      ]
    },
    {
      "cell_type": "markdown",
      "metadata": {
        "id": "cUhOMoUhadG2"
      },
      "source": [
        "For building a sample model in this demonstration notebook, we have downloaded a GeoTIFF file locally for a single day (24th July 2021). The file is named <b>S2_sample.tiff</b>. This GeoTIFF file contains values of four bands: Band B01, Band B04, Band B06 and Band B08. In the subsequent section, we will use this GeoTIFF file to extract the band values for the geo-locations given in the training dataset to create the features.\n",
        "\n",
        "First, let’s visualize the bands of the downloaded GeoTIFF image."
      ]
    },
    {
      "cell_type": "code",
      "source": [
        "import requests\n",
        "\n",
        "url = \"https://raw.githubusercontent.com/username/repository/main/path/to/S2_sample.tiff\"  # Replace with actual file URL\n",
        "output_path = \"S2_sample.tiff\""
      ],
      "metadata": {
        "id": "L2myqg6RjSKz",
        "outputId": "bab94997-83a8-4a0f-ea47-19a1f5ce352e",
        "colab": {
          "base_uri": "https://localhost:8080/"
        }
      },
      "execution_count": 11,
      "outputs": [
        {
          "output_type": "stream",
          "name": "stdout",
          "text": [
            "/content\n"
          ]
        }
      ]
    },
    {
      "cell_type": "code",
      "execution_count": 10,
      "metadata": {
        "id": "QHOiOXWsadG2",
        "outputId": "ea50370b-900e-49f2-f190-4b588abf43e6",
        "colab": {
          "base_uri": "https://localhost:8080/",
          "height": 599
        }
      },
      "outputs": [
        {
          "output_type": "error",
          "ename": "RasterioIOError",
          "evalue": "S2_sample.tiff: No such file or directory",
          "traceback": [
            "\u001b[0;31m---------------------------------------------------------------------------\u001b[0m",
            "\u001b[0;31mCPLE_OpenFailedError\u001b[0m                      Traceback (most recent call last)",
            "\u001b[0;32mrasterio/_base.pyx\u001b[0m in \u001b[0;36mrasterio._base.DatasetBase.__init__\u001b[0;34m()\u001b[0m\n",
            "\u001b[0;32mrasterio/_base.pyx\u001b[0m in \u001b[0;36mrasterio._base.open_dataset\u001b[0;34m()\u001b[0m\n",
            "\u001b[0;32mrasterio/_err.pyx\u001b[0m in \u001b[0;36mrasterio._err.exc_wrap_pointer\u001b[0;34m()\u001b[0m\n",
            "\u001b[0;31mCPLE_OpenFailedError\u001b[0m: S2_sample.tiff: No such file or directory",
            "\nDuring handling of the above exception, another exception occurred:\n",
            "\u001b[0;31mRasterioIOError\u001b[0m                           Traceback (most recent call last)",
            "\u001b[0;32m<ipython-input-10-2bde8b72b04a>\u001b[0m in \u001b[0;36m<cell line: 0>\u001b[0;34m()\u001b[0m\n\u001b[1;32m      5\u001b[0m \u001b[0;34m\u001b[0m\u001b[0m\n\u001b[1;32m      6\u001b[0m \u001b[0;31m# Read the bands from the GeoTIFF file\u001b[0m\u001b[0;34m\u001b[0m\u001b[0;34m\u001b[0m\u001b[0m\n\u001b[0;32m----> 7\u001b[0;31m \u001b[0;32mwith\u001b[0m \u001b[0mrasterio\u001b[0m\u001b[0;34m.\u001b[0m\u001b[0mopen\u001b[0m\u001b[0;34m(\u001b[0m\u001b[0mtiff_path\u001b[0m\u001b[0;34m)\u001b[0m \u001b[0;32mas\u001b[0m \u001b[0msrc1\u001b[0m\u001b[0;34m:\u001b[0m\u001b[0;34m\u001b[0m\u001b[0;34m\u001b[0m\u001b[0m\n\u001b[0m\u001b[1;32m      8\u001b[0m     \u001b[0mband1\u001b[0m \u001b[0;34m=\u001b[0m \u001b[0msrc1\u001b[0m\u001b[0;34m.\u001b[0m\u001b[0mread\u001b[0m\u001b[0;34m(\u001b[0m\u001b[0;36m1\u001b[0m\u001b[0;34m)\u001b[0m  \u001b[0;31m# Band [B01]\u001b[0m\u001b[0;34m\u001b[0m\u001b[0;34m\u001b[0m\u001b[0m\n\u001b[1;32m      9\u001b[0m     \u001b[0mband2\u001b[0m \u001b[0;34m=\u001b[0m \u001b[0msrc1\u001b[0m\u001b[0;34m.\u001b[0m\u001b[0mread\u001b[0m\u001b[0;34m(\u001b[0m\u001b[0;36m2\u001b[0m\u001b[0;34m)\u001b[0m  \u001b[0;31m# Band [B04]\u001b[0m\u001b[0;34m\u001b[0m\u001b[0;34m\u001b[0m\u001b[0m\n",
            "\u001b[0;32m/usr/local/lib/python3.11/dist-packages/rasterio/env.py\u001b[0m in \u001b[0;36mwrapper\u001b[0;34m(*args, **kwds)\u001b[0m\n\u001b[1;32m    461\u001b[0m \u001b[0;34m\u001b[0m\u001b[0m\n\u001b[1;32m    462\u001b[0m         \u001b[0;32mwith\u001b[0m \u001b[0menv_ctor\u001b[0m\u001b[0;34m(\u001b[0m\u001b[0msession\u001b[0m\u001b[0;34m=\u001b[0m\u001b[0msession\u001b[0m\u001b[0;34m)\u001b[0m\u001b[0;34m:\u001b[0m\u001b[0;34m\u001b[0m\u001b[0;34m\u001b[0m\u001b[0m\n\u001b[0;32m--> 463\u001b[0;31m             \u001b[0;32mreturn\u001b[0m \u001b[0mf\u001b[0m\u001b[0;34m(\u001b[0m\u001b[0;34m*\u001b[0m\u001b[0margs\u001b[0m\u001b[0;34m,\u001b[0m \u001b[0;34m**\u001b[0m\u001b[0mkwds\u001b[0m\u001b[0;34m)\u001b[0m\u001b[0;34m\u001b[0m\u001b[0;34m\u001b[0m\u001b[0m\n\u001b[0m\u001b[1;32m    464\u001b[0m \u001b[0;34m\u001b[0m\u001b[0m\n\u001b[1;32m    465\u001b[0m     \u001b[0;32mreturn\u001b[0m \u001b[0mwrapper\u001b[0m\u001b[0;34m\u001b[0m\u001b[0;34m\u001b[0m\u001b[0m\n",
            "\u001b[0;32m/usr/local/lib/python3.11/dist-packages/rasterio/__init__.py\u001b[0m in \u001b[0;36mopen\u001b[0;34m(fp, mode, driver, width, height, count, crs, transform, dtype, nodata, sharing, opener, **kwargs)\u001b[0m\n\u001b[1;32m    354\u001b[0m \u001b[0;34m\u001b[0m\u001b[0m\n\u001b[1;32m    355\u001b[0m             \u001b[0;32mif\u001b[0m \u001b[0mmode\u001b[0m \u001b[0;34m==\u001b[0m \u001b[0;34m\"r\"\u001b[0m\u001b[0;34m:\u001b[0m\u001b[0;34m\u001b[0m\u001b[0;34m\u001b[0m\u001b[0m\n\u001b[0;32m--> 356\u001b[0;31m                 \u001b[0mdataset\u001b[0m \u001b[0;34m=\u001b[0m \u001b[0mDatasetReader\u001b[0m\u001b[0;34m(\u001b[0m\u001b[0mpath\u001b[0m\u001b[0;34m,\u001b[0m \u001b[0mdriver\u001b[0m\u001b[0;34m=\u001b[0m\u001b[0mdriver\u001b[0m\u001b[0;34m,\u001b[0m \u001b[0msharing\u001b[0m\u001b[0;34m=\u001b[0m\u001b[0msharing\u001b[0m\u001b[0;34m,\u001b[0m \u001b[0;34m**\u001b[0m\u001b[0mkwargs\u001b[0m\u001b[0;34m)\u001b[0m\u001b[0;34m\u001b[0m\u001b[0;34m\u001b[0m\u001b[0m\n\u001b[0m\u001b[1;32m    357\u001b[0m             \u001b[0;32melif\u001b[0m \u001b[0mmode\u001b[0m \u001b[0;34m==\u001b[0m \u001b[0;34m\"r+\"\u001b[0m\u001b[0;34m:\u001b[0m\u001b[0;34m\u001b[0m\u001b[0;34m\u001b[0m\u001b[0m\n\u001b[1;32m    358\u001b[0m                 dataset = get_writer_for_path(path, driver=driver)(\n",
            "\u001b[0;32mrasterio/_base.pyx\u001b[0m in \u001b[0;36mrasterio._base.DatasetBase.__init__\u001b[0;34m()\u001b[0m\n",
            "\u001b[0;31mRasterioIOError\u001b[0m: S2_sample.tiff: No such file or directory"
          ]
        }
      ],
      "source": [
        "# Reads and plots four bands (B04, B08, B06, B01) from the GeoTIFF file.\n",
        "\n",
        "# Open the GeoTIFF file\n",
        "tiff_path = \"S2_sample.tiff\"\n",
        "\n",
        "# Read the bands from the GeoTIFF file\n",
        "with rasterio.open(tiff_path) as src1:\n",
        "    band1 = src1.read(1)  # Band [B01]\n",
        "    band2 = src1.read(2)  # Band [B04]\n",
        "    band3 = src1.read(3)  # Band [B06]\n",
        "    band4 = src1.read(4)  # Band [B08]\n",
        "\n",
        "# Plot the bands in a 2x2 grid\n",
        "fig, axes = plt.subplots(2, 2, figsize=(10, 10))\n",
        "\n",
        "# Flatten the axes for easier indexing\n",
        "axes = axes.flatten()\n",
        "\n",
        "# Plot the first band (B01)\n",
        "im1 = axes[0].imshow(band1, cmap='viridis')\n",
        "axes[0].set_title('Band [B01]')\n",
        "fig.colorbar(im1, ax=axes[0])\n",
        "\n",
        "# Plot the second band (B04)\n",
        "im2 = axes[1].imshow(band2, cmap='viridis')\n",
        "axes[1].set_title('Band [B04]')\n",
        "fig.colorbar(im2, ax=axes[1])\n",
        "\n",
        "# Plot the third band (B06)\n",
        "im3 = axes[2].imshow(band3, cmap='viridis')\n",
        "axes[2].set_title('Band [B06]')\n",
        "fig.colorbar(im3, ax=axes[2])\n",
        "\n",
        "# Plot the fourth band (B08)\n",
        "im4 = axes[3].imshow(band4, cmap='viridis')\n",
        "axes[3].set_title('Band [B08]')\n",
        "fig.colorbar(im4, ax=axes[3])\n",
        "\n",
        "plt.tight_layout()\n",
        "plt.show()\n"
      ]
    },
    {
      "cell_type": "markdown",
      "metadata": {
        "id": "cqPp-WLKadG2"
      },
      "source": [
        "<h4 style=\"color:rgb(255, 255, 0)\"><strong>Tip 3</strong></h4>"
      ]
    },
    {
      "cell_type": "markdown",
      "metadata": {
        "id": "7h-OM5ZaadG2"
      },
      "source": [
        "Instead of a single point data extraction, participants might explore the approach of creating a focal buffer around the locations (e.g., 50 m, 100 m, 150 m etc). For example, if the specified distance was 50 m and the specified band was “Band 2”, then the value of the output pixels from this analysis would reflect the average values in band 2 within 50 meters of the specific location. This approach might help reduction in error associated with spatial autocorrelation. In this demonstration notebook, we are extracting the band data for each of the locations without creating a buffer zone."
      ]
    },
    {
      "cell_type": "markdown",
      "metadata": {
        "id": "xa0E-wPMadG2"
      },
      "source": [
        "\n",
        "\n",
        "\n",
        "### Extracting Band Values from the GeoTIFF Image\n"
      ]
    },
    {
      "cell_type": "code",
      "execution_count": null,
      "metadata": {
        "id": "ZPg3zGrbadG2"
      },
      "outputs": [],
      "source": [
        "# Extracts satellite band values from a GeoTIFF based on coordinates from a csv file and returns them in a DataFrame.\n",
        "\n",
        "def map_satellite_data(tiff_path, csv_path):\n",
        "\n",
        "    # Load the GeoTIFF data\n",
        "    data = rxr.open_rasterio(tiff_path)\n",
        "    tiff_crs = data.rio.crs\n",
        "\n",
        "    # Read the Excel file using pandas\n",
        "    df = pd.read_csv(csv_path)\n",
        "    latitudes = df['Latitude'].values\n",
        "    longitudes = df['Longitude'].values\n",
        "\n",
        "    # 3. Convert lat/long to the GeoTIFF's CRS\n",
        "    # Create a Proj object for EPSG:4326 (WGS84 - lat/long) and the GeoTIFF's CRS\n",
        "    proj_wgs84 = Proj(init='epsg:4326')  # EPSG:4326 is the common lat/long CRS\n",
        "    proj_tiff = Proj(tiff_crs)\n",
        "\n",
        "    # Create a transformer object\n",
        "    transformer = Transformer.from_proj(proj_wgs84, proj_tiff)\n",
        "\n",
        "    B01_values = []\n",
        "    B04_values = []\n",
        "    B06_values = []\n",
        "    B08_values = []\n",
        "\n",
        "# Iterate over the latitudes and longitudes, and extract the corresponding band values\n",
        "    for lat, lon in tqdm(zip(latitudes, longitudes), total=len(latitudes), desc=\"Mapping values\"):\n",
        "    # Assuming the correct dimensions are 'y' and 'x' (replace these with actual names from data.coords)\n",
        "\n",
        "        B01_value = data.sel(x=lon, y=lat,  band=1, method=\"nearest\").values\n",
        "        B01_values.append(B01_value)\n",
        "\n",
        "        B04_value = data.sel(x=lon, y=lat, band=2, method=\"nearest\").values\n",
        "        B04_values.append(B04_value)\n",
        "\n",
        "        B06_value = data.sel(x=lon, y=lat, band=3, method=\"nearest\").values\n",
        "        B06_values.append(B06_value)\n",
        "\n",
        "        B08_value = data.sel(x=lon, y=lat, band=4, method=\"nearest\").values\n",
        "        B08_values.append(B08_value)\n",
        "\n",
        "    # Create a DataFrame with the band values\n",
        "    # Create a DataFrame to store the band values\n",
        "    df = pd.DataFrame()\n",
        "    df['B01'] = B01_values\n",
        "    df['B04'] = B04_values\n",
        "    df['B06'] = B06_values\n",
        "    df['B08'] = B08_values\n",
        "\n",
        "    return df\n"
      ]
    },
    {
      "cell_type": "code",
      "execution_count": null,
      "metadata": {
        "id": "UQdeJgiyadG2",
        "outputId": "bd9ae81e-065c-461f-e3c0-aae3c7c07bba"
      },
      "outputs": [
        {
          "name": "stderr",
          "output_type": "stream",
          "text": [
            "Mapping values: 100%|██████████| 11269/11269 [00:18<00:00, 605.44it/s]\n"
          ]
        }
      ],
      "source": [
        "# Mapping satellite data with training data.\n",
        "final_data = map_satellite_data('S2_sample.tiff', 'Training_data_uhi_index.csv')"
      ]
    },
    {
      "cell_type": "code",
      "execution_count": null,
      "metadata": {
        "id": "Dddi4dkLadG3",
        "outputId": "503636c0-a463-46ca-ed37-1ec03a0663a4"
      },
      "outputs": [
        {
          "data": {
            "text/html": [
              "<div>\n",
              "<style scoped>\n",
              "    .dataframe tbody tr th:only-of-type {\n",
              "        vertical-align: middle;\n",
              "    }\n",
              "\n",
              "    .dataframe tbody tr th {\n",
              "        vertical-align: top;\n",
              "    }\n",
              "\n",
              "    .dataframe thead th {\n",
              "        text-align: right;\n",
              "    }\n",
              "</style>\n",
              "<table border=\"1\" class=\"dataframe\">\n",
              "  <thead>\n",
              "    <tr style=\"text-align: right;\">\n",
              "      <th></th>\n",
              "      <th>B01</th>\n",
              "      <th>B04</th>\n",
              "      <th>B06</th>\n",
              "      <th>B08</th>\n",
              "    </tr>\n",
              "  </thead>\n",
              "  <tbody>\n",
              "    <tr>\n",
              "      <th>0</th>\n",
              "      <td>1561.0</td>\n",
              "      <td>1686.0</td>\n",
              "      <td>1831.0</td>\n",
              "      <td>1854.0</td>\n",
              "    </tr>\n",
              "    <tr>\n",
              "      <th>1</th>\n",
              "      <td>1561.0</td>\n",
              "      <td>1686.0</td>\n",
              "      <td>1831.0</td>\n",
              "      <td>1854.0</td>\n",
              "    </tr>\n",
              "    <tr>\n",
              "      <th>2</th>\n",
              "      <td>1502.0</td>\n",
              "      <td>1408.0</td>\n",
              "      <td>1755.0</td>\n",
              "      <td>1510.0</td>\n",
              "    </tr>\n",
              "    <tr>\n",
              "      <th>3</th>\n",
              "      <td>1566.0</td>\n",
              "      <td>1656.0</td>\n",
              "      <td>2169.0</td>\n",
              "      <td>1832.0</td>\n",
              "    </tr>\n",
              "    <tr>\n",
              "      <th>4</th>\n",
              "      <td>1566.0</td>\n",
              "      <td>1492.0</td>\n",
              "      <td>1648.0</td>\n",
              "      <td>1810.0</td>\n",
              "    </tr>\n",
              "  </tbody>\n",
              "</table>\n",
              "</div>"
            ],
            "text/plain": [
              "      B01     B04     B06     B08\n",
              "0  1561.0  1686.0  1831.0  1854.0\n",
              "1  1561.0  1686.0  1831.0  1854.0\n",
              "2  1502.0  1408.0  1755.0  1510.0\n",
              "3  1566.0  1656.0  2169.0  1832.0\n",
              "4  1566.0  1492.0  1648.0  1810.0"
            ]
          },
          "execution_count": 6,
          "metadata": {},
          "output_type": "execute_result"
        }
      ],
      "source": [
        "final_data.head()"
      ]
    },
    {
      "cell_type": "code",
      "execution_count": null,
      "metadata": {
        "id": "YPzdbG1VadG3"
      },
      "outputs": [],
      "source": [
        "# Calculate NDVI (Normalized Difference Vegetation Index) and handle division by zero by replacing infinities with NaN.\n",
        "# See the Sentinel-2 sample notebook for more information about the NDVI index\n",
        "final_data['NDVI'] = (final_data['B08'] - final_data['B04']) / (final_data['B08'] + final_data['B04'])\n",
        "final_data['NDVI'] = final_data['NDVI'].replace([np.inf, -np.inf], np.nan)"
      ]
    },
    {
      "cell_type": "markdown",
      "metadata": {
        "id": "q0j3R3_dadG3"
      },
      "source": [
        "## Joining the predictor variables and response variables\n",
        "Now that we have extracted our predictor variables, we need to join them onto the response variable . We use the function <i><b>combine_two_datasets</b></i> to combine the predictor variables and response variables.The <i><b>concat</b></i> function from pandas comes in handy here."
      ]
    },
    {
      "cell_type": "code",
      "execution_count": null,
      "metadata": {
        "id": "d89_esMnadG3"
      },
      "outputs": [],
      "source": [
        "# Combine two datasets vertically (along columns) using pandas concat function.\n",
        "def combine_two_datasets(dataset1,dataset2):\n",
        "    '''\n",
        "    Returns a  vertically concatenated dataset.\n",
        "    Attributes:\n",
        "    dataset1 - Dataset 1 to be combined\n",
        "    dataset2 - Dataset 2 to be combined\n",
        "    '''\n",
        "\n",
        "    data = pd.concat([dataset1,dataset2], axis=1)\n",
        "    return data"
      ]
    },
    {
      "cell_type": "code",
      "execution_count": null,
      "metadata": {
        "id": "AL191nQIadG3",
        "outputId": "50efa310-4162-4918-dadb-430c9a747e28"
      },
      "outputs": [
        {
          "data": {
            "text/html": [
              "<div>\n",
              "<style scoped>\n",
              "    .dataframe tbody tr th:only-of-type {\n",
              "        vertical-align: middle;\n",
              "    }\n",
              "\n",
              "    .dataframe tbody tr th {\n",
              "        vertical-align: top;\n",
              "    }\n",
              "\n",
              "    .dataframe thead th {\n",
              "        text-align: right;\n",
              "    }\n",
              "</style>\n",
              "<table border=\"1\" class=\"dataframe\">\n",
              "  <thead>\n",
              "    <tr style=\"text-align: right;\">\n",
              "      <th></th>\n",
              "      <th>Longitude</th>\n",
              "      <th>Latitude</th>\n",
              "      <th>datetime</th>\n",
              "      <th>UHI Index</th>\n",
              "      <th>B01</th>\n",
              "      <th>B04</th>\n",
              "      <th>B06</th>\n",
              "      <th>B08</th>\n",
              "      <th>NDVI</th>\n",
              "    </tr>\n",
              "  </thead>\n",
              "  <tbody>\n",
              "    <tr>\n",
              "      <th>0</th>\n",
              "      <td>-73.919037</td>\n",
              "      <td>40.814292</td>\n",
              "      <td>24-07-2021 15:53</td>\n",
              "      <td>1.034616</td>\n",
              "      <td>1561.0</td>\n",
              "      <td>1686.0</td>\n",
              "      <td>1831.0</td>\n",
              "      <td>1854.0</td>\n",
              "      <td>0.047458</td>\n",
              "    </tr>\n",
              "    <tr>\n",
              "      <th>1</th>\n",
              "      <td>-73.918978</td>\n",
              "      <td>40.814365</td>\n",
              "      <td>24-07-2021 15:53</td>\n",
              "      <td>1.028125</td>\n",
              "      <td>1561.0</td>\n",
              "      <td>1686.0</td>\n",
              "      <td>1831.0</td>\n",
              "      <td>1854.0</td>\n",
              "      <td>0.047458</td>\n",
              "    </tr>\n",
              "    <tr>\n",
              "      <th>2</th>\n",
              "      <td>-73.918927</td>\n",
              "      <td>40.814433</td>\n",
              "      <td>24-07-2021 15:53</td>\n",
              "      <td>1.028125</td>\n",
              "      <td>1502.0</td>\n",
              "      <td>1408.0</td>\n",
              "      <td>1755.0</td>\n",
              "      <td>1510.0</td>\n",
              "      <td>0.034955</td>\n",
              "    </tr>\n",
              "    <tr>\n",
              "      <th>3</th>\n",
              "      <td>-73.918875</td>\n",
              "      <td>40.814500</td>\n",
              "      <td>24-07-2021 15:53</td>\n",
              "      <td>1.025961</td>\n",
              "      <td>1566.0</td>\n",
              "      <td>1656.0</td>\n",
              "      <td>2169.0</td>\n",
              "      <td>1832.0</td>\n",
              "      <td>0.050459</td>\n",
              "    </tr>\n",
              "    <tr>\n",
              "      <th>4</th>\n",
              "      <td>-73.918827</td>\n",
              "      <td>40.814560</td>\n",
              "      <td>24-07-2021 15:53</td>\n",
              "      <td>1.025961</td>\n",
              "      <td>1566.0</td>\n",
              "      <td>1492.0</td>\n",
              "      <td>1648.0</td>\n",
              "      <td>1810.0</td>\n",
              "      <td>0.096305</td>\n",
              "    </tr>\n",
              "  </tbody>\n",
              "</table>\n",
              "</div>"
            ],
            "text/plain": [
              "   Longitude   Latitude          datetime  UHI Index     B01     B04     B06  \\\n",
              "0 -73.919037  40.814292  24-07-2021 15:53   1.034616  1561.0  1686.0  1831.0   \n",
              "1 -73.918978  40.814365  24-07-2021 15:53   1.028125  1561.0  1686.0  1831.0   \n",
              "2 -73.918927  40.814433  24-07-2021 15:53   1.028125  1502.0  1408.0  1755.0   \n",
              "3 -73.918875  40.814500  24-07-2021 15:53   1.025961  1566.0  1656.0  2169.0   \n",
              "4 -73.918827  40.814560  24-07-2021 15:53   1.025961  1566.0  1492.0  1648.0   \n",
              "\n",
              "      B08      NDVI  \n",
              "0  1854.0  0.047458  \n",
              "1  1854.0  0.047458  \n",
              "2  1510.0  0.034955  \n",
              "3  1832.0  0.050459  \n",
              "4  1810.0  0.096305  "
            ]
          },
          "execution_count": 9,
          "metadata": {},
          "output_type": "execute_result"
        }
      ],
      "source": [
        "# Combining ground data and final data into a single dataset.\n",
        "uhi_data = combine_two_datasets(ground_df,final_data)\n",
        "uhi_data.head()"
      ]
    },
    {
      "cell_type": "markdown",
      "metadata": {
        "id": "N1LQlqQKadG3"
      },
      "source": [
        "## Removing duplicates\n",
        "Identical or duplicate entries are removed based on specific columns, in our case [ 'B01','B04','B06','B08','NDVI']. This ensures that the dataset is not biased or skewed by repetitive data, allowing the model to train on unique, relevant observations."
      ]
    },
    {
      "cell_type": "code",
      "execution_count": null,
      "metadata": {
        "id": "XzmK3kaGadG3",
        "outputId": "0a60cf73-f7a1-4058-dff8-a16b4bd36d6f"
      },
      "outputs": [
        {
          "data": {
            "text/html": [
              "<div>\n",
              "<style scoped>\n",
              "    .dataframe tbody tr th:only-of-type {\n",
              "        vertical-align: middle;\n",
              "    }\n",
              "\n",
              "    .dataframe tbody tr th {\n",
              "        vertical-align: top;\n",
              "    }\n",
              "\n",
              "    .dataframe thead th {\n",
              "        text-align: right;\n",
              "    }\n",
              "</style>\n",
              "<table border=\"1\" class=\"dataframe\">\n",
              "  <thead>\n",
              "    <tr style=\"text-align: right;\">\n",
              "      <th></th>\n",
              "      <th>Longitude</th>\n",
              "      <th>Latitude</th>\n",
              "      <th>datetime</th>\n",
              "      <th>UHI Index</th>\n",
              "      <th>B01</th>\n",
              "      <th>B04</th>\n",
              "      <th>B06</th>\n",
              "      <th>B08</th>\n",
              "      <th>NDVI</th>\n",
              "    </tr>\n",
              "  </thead>\n",
              "  <tbody>\n",
              "    <tr>\n",
              "      <th>0</th>\n",
              "      <td>-73.919037</td>\n",
              "      <td>40.814292</td>\n",
              "      <td>24-07-2021 15:53</td>\n",
              "      <td>1.034616</td>\n",
              "      <td>1561.0</td>\n",
              "      <td>1686.0</td>\n",
              "      <td>1831.0</td>\n",
              "      <td>1854.0</td>\n",
              "      <td>0.047458</td>\n",
              "    </tr>\n",
              "    <tr>\n",
              "      <th>2</th>\n",
              "      <td>-73.918927</td>\n",
              "      <td>40.814433</td>\n",
              "      <td>24-07-2021 15:53</td>\n",
              "      <td>1.028125</td>\n",
              "      <td>1502.0</td>\n",
              "      <td>1408.0</td>\n",
              "      <td>1755.0</td>\n",
              "      <td>1510.0</td>\n",
              "      <td>0.034955</td>\n",
              "    </tr>\n",
              "    <tr>\n",
              "      <th>3</th>\n",
              "      <td>-73.918875</td>\n",
              "      <td>40.814500</td>\n",
              "      <td>24-07-2021 15:53</td>\n",
              "      <td>1.025961</td>\n",
              "      <td>1566.0</td>\n",
              "      <td>1656.0</td>\n",
              "      <td>2169.0</td>\n",
              "      <td>1832.0</td>\n",
              "      <td>0.050459</td>\n",
              "    </tr>\n",
              "    <tr>\n",
              "      <th>4</th>\n",
              "      <td>-73.918827</td>\n",
              "      <td>40.814560</td>\n",
              "      <td>24-07-2021 15:53</td>\n",
              "      <td>1.025961</td>\n",
              "      <td>1566.0</td>\n",
              "      <td>1492.0</td>\n",
              "      <td>1648.0</td>\n",
              "      <td>1810.0</td>\n",
              "      <td>0.096305</td>\n",
              "    </tr>\n",
              "    <tr>\n",
              "      <th>5</th>\n",
              "      <td>-73.918785</td>\n",
              "      <td>40.814602</td>\n",
              "      <td>24-07-2021 15:53</td>\n",
              "      <td>1.023798</td>\n",
              "      <td>1566.0</td>\n",
              "      <td>1476.0</td>\n",
              "      <td>1648.0</td>\n",
              "      <td>1432.0</td>\n",
              "      <td>-0.015131</td>\n",
              "    </tr>\n",
              "  </tbody>\n",
              "</table>\n",
              "</div>"
            ],
            "text/plain": [
              "   Longitude   Latitude          datetime  UHI Index     B01     B04     B06  \\\n",
              "0 -73.919037  40.814292  24-07-2021 15:53   1.034616  1561.0  1686.0  1831.0   \n",
              "2 -73.918927  40.814433  24-07-2021 15:53   1.028125  1502.0  1408.0  1755.0   \n",
              "3 -73.918875  40.814500  24-07-2021 15:53   1.025961  1566.0  1656.0  2169.0   \n",
              "4 -73.918827  40.814560  24-07-2021 15:53   1.025961  1566.0  1492.0  1648.0   \n",
              "5 -73.918785  40.814602  24-07-2021 15:53   1.023798  1566.0  1476.0  1648.0   \n",
              "\n",
              "      B08      NDVI  \n",
              "0  1854.0  0.047458  \n",
              "2  1510.0  0.034955  \n",
              "3  1832.0  0.050459  \n",
              "4  1810.0  0.096305  \n",
              "5  1432.0 -0.015131  "
            ]
          },
          "execution_count": 10,
          "metadata": {},
          "output_type": "execute_result"
        }
      ],
      "source": [
        "# Remove duplicate rows from the DataFrame based on specified columns and keep the first occurrence\n",
        "columns_to_check = ['B01','B04','B06','B08','NDVI']\n",
        "for col in columns_to_check:\n",
        "    # Check if the value is a numpy array and has more than one dimension\n",
        "    uhi_data[col] = uhi_data[col].apply(lambda x: tuple(x) if isinstance(x, np.ndarray) and x.ndim > 0 else x)\n",
        "\n",
        "# Now remove duplicates\n",
        "uhi_data = uhi_data.drop_duplicates(subset=columns_to_check, keep='first')\n",
        "uhi_data.head()\n"
      ]
    },
    {
      "cell_type": "code",
      "execution_count": null,
      "metadata": {
        "id": "M4dhTO6BadG3"
      },
      "outputs": [],
      "source": [
        "# Resetting the index of the dataset\n",
        "uhi_data=uhi_data.reset_index(drop=True)"
      ]
    },
    {
      "cell_type": "markdown",
      "metadata": {
        "id": "IVrHJRQhadG3"
      },
      "source": [
        "## Model Building"
      ]
    },
    {
      "cell_type": "markdown",
      "metadata": {
        "id": "BFkpbHr1adG3"
      },
      "source": [
        "<p align=\"justify\"> Now let us select the columns required for our model building exercise. We will consider only Band B01, Band B06 and NDVI from the Sentinel-2 data as our predictor variables. It does not make sense to use latitude and longitude as predictor variables, as they do not have any direct impact on predicting the UHI index.</p>\n"
      ]
    },
    {
      "cell_type": "code",
      "execution_count": null,
      "metadata": {
        "id": "EvdwLNXoadG3"
      },
      "outputs": [],
      "source": [
        "# Retaining only the columns for B01, B06, NDVI, and UHI Index in the dataset.\n",
        "uhi_data = uhi_data[['B01','B06','NDVI','UHI Index']]"
      ]
    },
    {
      "cell_type": "markdown",
      "metadata": {
        "id": "sIna6lPLadG9"
      },
      "source": [
        "### Train and Test Split"
      ]
    },
    {
      "cell_type": "markdown",
      "metadata": {
        "id": "6BYLpvi9adG9"
      },
      "source": [
        "<p align=\"justify\">We will now split the data into 70% training data and 30% test data. Scikit-learn alias “sklearn” is a robust library for machine learning in Python. The scikit-learn library has a <i><b>model_selection</b></i> module in which there is a splitting function <i><b>train_test_split</b></i>. You can use the same.</p>"
      ]
    },
    {
      "cell_type": "code",
      "execution_count": null,
      "metadata": {
        "id": "K_FoK9iLadG9"
      },
      "outputs": [],
      "source": [
        "# Split the data into features (X) and target (y), and then into training and testing sets\n",
        "X = uhi_data.drop(columns=['UHI Index']).values\n",
        "y = uhi_data ['UHI Index'].values\n",
        "X_train, X_test, y_train, y_test = train_test_split(X, y, test_size=0.3,random_state=123)"
      ]
    },
    {
      "cell_type": "markdown",
      "metadata": {
        "id": "O251CfD2adG9"
      },
      "source": [
        "### Feature Scaling"
      ]
    },
    {
      "cell_type": "markdown",
      "metadata": {
        "id": "bayFy6xRadG9"
      },
      "source": [
        "<p align=\"justify\"> Before initiating the model training we may have to execute different data pre-processing steps. Here we are demonstrating the scaling of B01, B06, NDVI variable by using Standard Scaler.</p>"
      ]
    },
    {
      "cell_type": "markdown",
      "metadata": {
        "id": "FRI8QV4aadG9"
      },
      "source": [
        "<p align = \"justify\">Feature Scaling is a data preprocessing step for numerical features. Many machine learning algorithms like Gradient descent methods, KNN algorithm, linear and logistic regression, etc. require data scaling to produce good results. Scikit learn provides functions that can be used to apply data scaling. Here we are using Standard Scaler. The idea behind Standard Scaler is that it will transform your data such that its distribution will have a mean value 0 and standard deviation of 1.</p>"
      ]
    },
    {
      "cell_type": "markdown",
      "metadata": {
        "id": "eV2EMHh7adG9"
      },
      "source": [
        "<h4 style=\"color:rgb(255, 255, 0)\"><strong>Tip 4</strong></h4>\n",
        "<p align=\"justify\">There are many data preprocessing methods available, which might help to improve the model performance. Participants should explore various suitable preprocessing methods as well as different machine learning algorithms to build a robust model.</p>"
      ]
    },
    {
      "cell_type": "code",
      "execution_count": null,
      "metadata": {
        "id": "kdfzDFM_adG-"
      },
      "outputs": [],
      "source": [
        "# Scale the training and test data using standardscaler\n",
        "sc = StandardScaler()\n",
        "X_train = sc.fit_transform(X_train)\n",
        "X_test = sc.transform(X_test)"
      ]
    },
    {
      "cell_type": "markdown",
      "metadata": {
        "id": "JEMusUiEadG-"
      },
      "source": [
        "### Model Training"
      ]
    },
    {
      "cell_type": "markdown",
      "metadata": {
        "id": "hdib963ZadG-"
      },
      "source": [
        "<p align=\"justify\">Now that we have the data in a format suitable for machine learning, we can begin training a model. In this demonstration notebook, we will use a random forest regression model from the scikit-learn library. This library offers a wide range of other models, each with extensive parameter tuning and customization capabilities.</p>\n",
        "\n",
        "<p align=\"justify\">Scikit-learn models require the separation of predictor variables and the response variable. We will store the predictor variables (Band B01, B06, NDVI) in array X and the response variable (UHI index) in array Y. It is important not to include the response variable in array X. Additionally, since latitude and longitude do not contribute to the prediction of UHI in this case, we will drop those as well.</p>\n"
      ]
    },
    {
      "cell_type": "code",
      "execution_count": null,
      "metadata": {
        "id": "qpd9N1e5adG-",
        "outputId": "767a3453-0784-4953-ca45-627f0d9a311b"
      },
      "outputs": [
        {
          "data": {
            "text/html": [
              "<style>#sk-container-id-1 {\n",
              "  /* Definition of color scheme common for light and dark mode */\n",
              "  --sklearn-color-text: black;\n",
              "  --sklearn-color-line: gray;\n",
              "  /* Definition of color scheme for unfitted estimators */\n",
              "  --sklearn-color-unfitted-level-0: #fff5e6;\n",
              "  --sklearn-color-unfitted-level-1: #f6e4d2;\n",
              "  --sklearn-color-unfitted-level-2: #ffe0b3;\n",
              "  --sklearn-color-unfitted-level-3: chocolate;\n",
              "  /* Definition of color scheme for fitted estimators */\n",
              "  --sklearn-color-fitted-level-0: #f0f8ff;\n",
              "  --sklearn-color-fitted-level-1: #d4ebff;\n",
              "  --sklearn-color-fitted-level-2: #b3dbfd;\n",
              "  --sklearn-color-fitted-level-3: cornflowerblue;\n",
              "\n",
              "  /* Specific color for light theme */\n",
              "  --sklearn-color-text-on-default-background: var(--sg-text-color, var(--theme-code-foreground, var(--jp-content-font-color1, black)));\n",
              "  --sklearn-color-background: var(--sg-background-color, var(--theme-background, var(--jp-layout-color0, white)));\n",
              "  --sklearn-color-border-box: var(--sg-text-color, var(--theme-code-foreground, var(--jp-content-font-color1, black)));\n",
              "  --sklearn-color-icon: #696969;\n",
              "\n",
              "  @media (prefers-color-scheme: dark) {\n",
              "    /* Redefinition of color scheme for dark theme */\n",
              "    --sklearn-color-text-on-default-background: var(--sg-text-color, var(--theme-code-foreground, var(--jp-content-font-color1, white)));\n",
              "    --sklearn-color-background: var(--sg-background-color, var(--theme-background, var(--jp-layout-color0, #111)));\n",
              "    --sklearn-color-border-box: var(--sg-text-color, var(--theme-code-foreground, var(--jp-content-font-color1, white)));\n",
              "    --sklearn-color-icon: #878787;\n",
              "  }\n",
              "}\n",
              "\n",
              "#sk-container-id-1 {\n",
              "  color: var(--sklearn-color-text);\n",
              "}\n",
              "\n",
              "#sk-container-id-1 pre {\n",
              "  padding: 0;\n",
              "}\n",
              "\n",
              "#sk-container-id-1 input.sk-hidden--visually {\n",
              "  border: 0;\n",
              "  clip: rect(1px 1px 1px 1px);\n",
              "  clip: rect(1px, 1px, 1px, 1px);\n",
              "  height: 1px;\n",
              "  margin: -1px;\n",
              "  overflow: hidden;\n",
              "  padding: 0;\n",
              "  position: absolute;\n",
              "  width: 1px;\n",
              "}\n",
              "\n",
              "#sk-container-id-1 div.sk-dashed-wrapped {\n",
              "  border: 1px dashed var(--sklearn-color-line);\n",
              "  margin: 0 0.4em 0.5em 0.4em;\n",
              "  box-sizing: border-box;\n",
              "  padding-bottom: 0.4em;\n",
              "  background-color: var(--sklearn-color-background);\n",
              "}\n",
              "\n",
              "#sk-container-id-1 div.sk-container {\n",
              "  /* jupyter's `normalize.less` sets `[hidden] { display: none; }`\n",
              "     but bootstrap.min.css set `[hidden] { display: none !important; }`\n",
              "     so we also need the `!important` here to be able to override the\n",
              "     default hidden behavior on the sphinx rendered scikit-learn.org.\n",
              "     See: https://github.com/scikit-learn/scikit-learn/issues/21755 */\n",
              "  display: inline-block !important;\n",
              "  position: relative;\n",
              "}\n",
              "\n",
              "#sk-container-id-1 div.sk-text-repr-fallback {\n",
              "  display: none;\n",
              "}\n",
              "\n",
              "div.sk-parallel-item,\n",
              "div.sk-serial,\n",
              "div.sk-item {\n",
              "  /* draw centered vertical line to link estimators */\n",
              "  background-image: linear-gradient(var(--sklearn-color-text-on-default-background), var(--sklearn-color-text-on-default-background));\n",
              "  background-size: 2px 100%;\n",
              "  background-repeat: no-repeat;\n",
              "  background-position: center center;\n",
              "}\n",
              "\n",
              "/* Parallel-specific style estimator block */\n",
              "\n",
              "#sk-container-id-1 div.sk-parallel-item::after {\n",
              "  content: \"\";\n",
              "  width: 100%;\n",
              "  border-bottom: 2px solid var(--sklearn-color-text-on-default-background);\n",
              "  flex-grow: 1;\n",
              "}\n",
              "\n",
              "#sk-container-id-1 div.sk-parallel {\n",
              "  display: flex;\n",
              "  align-items: stretch;\n",
              "  justify-content: center;\n",
              "  background-color: var(--sklearn-color-background);\n",
              "  position: relative;\n",
              "}\n",
              "\n",
              "#sk-container-id-1 div.sk-parallel-item {\n",
              "  display: flex;\n",
              "  flex-direction: column;\n",
              "}\n",
              "\n",
              "#sk-container-id-1 div.sk-parallel-item:first-child::after {\n",
              "  align-self: flex-end;\n",
              "  width: 50%;\n",
              "}\n",
              "\n",
              "#sk-container-id-1 div.sk-parallel-item:last-child::after {\n",
              "  align-self: flex-start;\n",
              "  width: 50%;\n",
              "}\n",
              "\n",
              "#sk-container-id-1 div.sk-parallel-item:only-child::after {\n",
              "  width: 0;\n",
              "}\n",
              "\n",
              "/* Serial-specific style estimator block */\n",
              "\n",
              "#sk-container-id-1 div.sk-serial {\n",
              "  display: flex;\n",
              "  flex-direction: column;\n",
              "  align-items: center;\n",
              "  background-color: var(--sklearn-color-background);\n",
              "  padding-right: 1em;\n",
              "  padding-left: 1em;\n",
              "}\n",
              "\n",
              "\n",
              "/* Toggleable style: style used for estimator/Pipeline/ColumnTransformer box that is\n",
              "clickable and can be expanded/collapsed.\n",
              "- Pipeline and ColumnTransformer use this feature and define the default style\n",
              "- Estimators will overwrite some part of the style using the `sk-estimator` class\n",
              "*/\n",
              "\n",
              "/* Pipeline and ColumnTransformer style (default) */\n",
              "\n",
              "#sk-container-id-1 div.sk-toggleable {\n",
              "  /* Default theme specific background. It is overwritten whether we have a\n",
              "  specific estimator or a Pipeline/ColumnTransformer */\n",
              "  background-color: var(--sklearn-color-background);\n",
              "}\n",
              "\n",
              "/* Toggleable label */\n",
              "#sk-container-id-1 label.sk-toggleable__label {\n",
              "  cursor: pointer;\n",
              "  display: block;\n",
              "  width: 100%;\n",
              "  margin-bottom: 0;\n",
              "  padding: 0.5em;\n",
              "  box-sizing: border-box;\n",
              "  text-align: center;\n",
              "}\n",
              "\n",
              "#sk-container-id-1 label.sk-toggleable__label-arrow:before {\n",
              "  /* Arrow on the left of the label */\n",
              "  content: \"▸\";\n",
              "  float: left;\n",
              "  margin-right: 0.25em;\n",
              "  color: var(--sklearn-color-icon);\n",
              "}\n",
              "\n",
              "#sk-container-id-1 label.sk-toggleable__label-arrow:hover:before {\n",
              "  color: var(--sklearn-color-text);\n",
              "}\n",
              "\n",
              "/* Toggleable content - dropdown */\n",
              "\n",
              "#sk-container-id-1 div.sk-toggleable__content {\n",
              "  max-height: 0;\n",
              "  max-width: 0;\n",
              "  overflow: hidden;\n",
              "  text-align: left;\n",
              "  /* unfitted */\n",
              "  background-color: var(--sklearn-color-unfitted-level-0);\n",
              "}\n",
              "\n",
              "#sk-container-id-1 div.sk-toggleable__content.fitted {\n",
              "  /* fitted */\n",
              "  background-color: var(--sklearn-color-fitted-level-0);\n",
              "}\n",
              "\n",
              "#sk-container-id-1 div.sk-toggleable__content pre {\n",
              "  margin: 0.2em;\n",
              "  border-radius: 0.25em;\n",
              "  color: var(--sklearn-color-text);\n",
              "  /* unfitted */\n",
              "  background-color: var(--sklearn-color-unfitted-level-0);\n",
              "}\n",
              "\n",
              "#sk-container-id-1 div.sk-toggleable__content.fitted pre {\n",
              "  /* unfitted */\n",
              "  background-color: var(--sklearn-color-fitted-level-0);\n",
              "}\n",
              "\n",
              "#sk-container-id-1 input.sk-toggleable__control:checked~div.sk-toggleable__content {\n",
              "  /* Expand drop-down */\n",
              "  max-height: 200px;\n",
              "  max-width: 100%;\n",
              "  overflow: auto;\n",
              "}\n",
              "\n",
              "#sk-container-id-1 input.sk-toggleable__control:checked~label.sk-toggleable__label-arrow:before {\n",
              "  content: \"▾\";\n",
              "}\n",
              "\n",
              "/* Pipeline/ColumnTransformer-specific style */\n",
              "\n",
              "#sk-container-id-1 div.sk-label input.sk-toggleable__control:checked~label.sk-toggleable__label {\n",
              "  color: var(--sklearn-color-text);\n",
              "  background-color: var(--sklearn-color-unfitted-level-2);\n",
              "}\n",
              "\n",
              "#sk-container-id-1 div.sk-label.fitted input.sk-toggleable__control:checked~label.sk-toggleable__label {\n",
              "  background-color: var(--sklearn-color-fitted-level-2);\n",
              "}\n",
              "\n",
              "/* Estimator-specific style */\n",
              "\n",
              "/* Colorize estimator box */\n",
              "#sk-container-id-1 div.sk-estimator input.sk-toggleable__control:checked~label.sk-toggleable__label {\n",
              "  /* unfitted */\n",
              "  background-color: var(--sklearn-color-unfitted-level-2);\n",
              "}\n",
              "\n",
              "#sk-container-id-1 div.sk-estimator.fitted input.sk-toggleable__control:checked~label.sk-toggleable__label {\n",
              "  /* fitted */\n",
              "  background-color: var(--sklearn-color-fitted-level-2);\n",
              "}\n",
              "\n",
              "#sk-container-id-1 div.sk-label label.sk-toggleable__label,\n",
              "#sk-container-id-1 div.sk-label label {\n",
              "  /* The background is the default theme color */\n",
              "  color: var(--sklearn-color-text-on-default-background);\n",
              "}\n",
              "\n",
              "/* On hover, darken the color of the background */\n",
              "#sk-container-id-1 div.sk-label:hover label.sk-toggleable__label {\n",
              "  color: var(--sklearn-color-text);\n",
              "  background-color: var(--sklearn-color-unfitted-level-2);\n",
              "}\n",
              "\n",
              "/* Label box, darken color on hover, fitted */\n",
              "#sk-container-id-1 div.sk-label.fitted:hover label.sk-toggleable__label.fitted {\n",
              "  color: var(--sklearn-color-text);\n",
              "  background-color: var(--sklearn-color-fitted-level-2);\n",
              "}\n",
              "\n",
              "/* Estimator label */\n",
              "\n",
              "#sk-container-id-1 div.sk-label label {\n",
              "  font-family: monospace;\n",
              "  font-weight: bold;\n",
              "  display: inline-block;\n",
              "  line-height: 1.2em;\n",
              "}\n",
              "\n",
              "#sk-container-id-1 div.sk-label-container {\n",
              "  text-align: center;\n",
              "}\n",
              "\n",
              "/* Estimator-specific */\n",
              "#sk-container-id-1 div.sk-estimator {\n",
              "  font-family: monospace;\n",
              "  border: 1px dotted var(--sklearn-color-border-box);\n",
              "  border-radius: 0.25em;\n",
              "  box-sizing: border-box;\n",
              "  margin-bottom: 0.5em;\n",
              "  /* unfitted */\n",
              "  background-color: var(--sklearn-color-unfitted-level-0);\n",
              "}\n",
              "\n",
              "#sk-container-id-1 div.sk-estimator.fitted {\n",
              "  /* fitted */\n",
              "  background-color: var(--sklearn-color-fitted-level-0);\n",
              "}\n",
              "\n",
              "/* on hover */\n",
              "#sk-container-id-1 div.sk-estimator:hover {\n",
              "  /* unfitted */\n",
              "  background-color: var(--sklearn-color-unfitted-level-2);\n",
              "}\n",
              "\n",
              "#sk-container-id-1 div.sk-estimator.fitted:hover {\n",
              "  /* fitted */\n",
              "  background-color: var(--sklearn-color-fitted-level-2);\n",
              "}\n",
              "\n",
              "/* Specification for estimator info (e.g. \"i\" and \"?\") */\n",
              "\n",
              "/* Common style for \"i\" and \"?\" */\n",
              "\n",
              ".sk-estimator-doc-link,\n",
              "a:link.sk-estimator-doc-link,\n",
              "a:visited.sk-estimator-doc-link {\n",
              "  float: right;\n",
              "  font-size: smaller;\n",
              "  line-height: 1em;\n",
              "  font-family: monospace;\n",
              "  background-color: var(--sklearn-color-background);\n",
              "  border-radius: 1em;\n",
              "  height: 1em;\n",
              "  width: 1em;\n",
              "  text-decoration: none !important;\n",
              "  margin-left: 1ex;\n",
              "  /* unfitted */\n",
              "  border: var(--sklearn-color-unfitted-level-1) 1pt solid;\n",
              "  color: var(--sklearn-color-unfitted-level-1);\n",
              "}\n",
              "\n",
              ".sk-estimator-doc-link.fitted,\n",
              "a:link.sk-estimator-doc-link.fitted,\n",
              "a:visited.sk-estimator-doc-link.fitted {\n",
              "  /* fitted */\n",
              "  border: var(--sklearn-color-fitted-level-1) 1pt solid;\n",
              "  color: var(--sklearn-color-fitted-level-1);\n",
              "}\n",
              "\n",
              "/* On hover */\n",
              "div.sk-estimator:hover .sk-estimator-doc-link:hover,\n",
              ".sk-estimator-doc-link:hover,\n",
              "div.sk-label-container:hover .sk-estimator-doc-link:hover,\n",
              ".sk-estimator-doc-link:hover {\n",
              "  /* unfitted */\n",
              "  background-color: var(--sklearn-color-unfitted-level-3);\n",
              "  color: var(--sklearn-color-background);\n",
              "  text-decoration: none;\n",
              "}\n",
              "\n",
              "div.sk-estimator.fitted:hover .sk-estimator-doc-link.fitted:hover,\n",
              ".sk-estimator-doc-link.fitted:hover,\n",
              "div.sk-label-container:hover .sk-estimator-doc-link.fitted:hover,\n",
              ".sk-estimator-doc-link.fitted:hover {\n",
              "  /* fitted */\n",
              "  background-color: var(--sklearn-color-fitted-level-3);\n",
              "  color: var(--sklearn-color-background);\n",
              "  text-decoration: none;\n",
              "}\n",
              "\n",
              "/* Span, style for the box shown on hovering the info icon */\n",
              ".sk-estimator-doc-link span {\n",
              "  display: none;\n",
              "  z-index: 9999;\n",
              "  position: relative;\n",
              "  font-weight: normal;\n",
              "  right: .2ex;\n",
              "  padding: .5ex;\n",
              "  margin: .5ex;\n",
              "  width: min-content;\n",
              "  min-width: 20ex;\n",
              "  max-width: 50ex;\n",
              "  color: var(--sklearn-color-text);\n",
              "  box-shadow: 2pt 2pt 4pt #999;\n",
              "  /* unfitted */\n",
              "  background: var(--sklearn-color-unfitted-level-0);\n",
              "  border: .5pt solid var(--sklearn-color-unfitted-level-3);\n",
              "}\n",
              "\n",
              ".sk-estimator-doc-link.fitted span {\n",
              "  /* fitted */\n",
              "  background: var(--sklearn-color-fitted-level-0);\n",
              "  border: var(--sklearn-color-fitted-level-3);\n",
              "}\n",
              "\n",
              ".sk-estimator-doc-link:hover span {\n",
              "  display: block;\n",
              "}\n",
              "\n",
              "/* \"?\"-specific style due to the `<a>` HTML tag */\n",
              "\n",
              "#sk-container-id-1 a.estimator_doc_link {\n",
              "  float: right;\n",
              "  font-size: 1rem;\n",
              "  line-height: 1em;\n",
              "  font-family: monospace;\n",
              "  background-color: var(--sklearn-color-background);\n",
              "  border-radius: 1rem;\n",
              "  height: 1rem;\n",
              "  width: 1rem;\n",
              "  text-decoration: none;\n",
              "  /* unfitted */\n",
              "  color: var(--sklearn-color-unfitted-level-1);\n",
              "  border: var(--sklearn-color-unfitted-level-1) 1pt solid;\n",
              "}\n",
              "\n",
              "#sk-container-id-1 a.estimator_doc_link.fitted {\n",
              "  /* fitted */\n",
              "  border: var(--sklearn-color-fitted-level-1) 1pt solid;\n",
              "  color: var(--sklearn-color-fitted-level-1);\n",
              "}\n",
              "\n",
              "/* On hover */\n",
              "#sk-container-id-1 a.estimator_doc_link:hover {\n",
              "  /* unfitted */\n",
              "  background-color: var(--sklearn-color-unfitted-level-3);\n",
              "  color: var(--sklearn-color-background);\n",
              "  text-decoration: none;\n",
              "}\n",
              "\n",
              "#sk-container-id-1 a.estimator_doc_link.fitted:hover {\n",
              "  /* fitted */\n",
              "  background-color: var(--sklearn-color-fitted-level-3);\n",
              "}\n",
              "</style><div id=\"sk-container-id-1\" class=\"sk-top-container\"><div class=\"sk-text-repr-fallback\"><pre>RandomForestRegressor(random_state=42)</pre><b>In a Jupyter environment, please rerun this cell to show the HTML representation or trust the notebook. <br />On GitHub, the HTML representation is unable to render, please try loading this page with nbviewer.org.</b></div><div class=\"sk-container\" hidden><div class=\"sk-item\"><div class=\"sk-estimator fitted sk-toggleable\"><input class=\"sk-toggleable__control sk-hidden--visually\" id=\"sk-estimator-id-1\" type=\"checkbox\" checked><label for=\"sk-estimator-id-1\" class=\"sk-toggleable__label fitted sk-toggleable__label-arrow fitted\">&nbsp;&nbsp;RandomForestRegressor<a class=\"sk-estimator-doc-link fitted\" rel=\"noreferrer\" target=\"_blank\" href=\"https://scikit-learn.org/1.5/modules/generated/sklearn.ensemble.RandomForestRegressor.html\">?<span>Documentation for RandomForestRegressor</span></a><span class=\"sk-estimator-doc-link fitted\">i<span>Fitted</span></span></label><div class=\"sk-toggleable__content fitted\"><pre>RandomForestRegressor(random_state=42)</pre></div> </div></div></div></div>"
            ],
            "text/plain": [
              "RandomForestRegressor(random_state=42)"
            ]
          },
          "execution_count": 15,
          "metadata": {},
          "output_type": "execute_result"
        }
      ],
      "source": [
        "# Train the Random Forest model on the training data\n",
        "model = RandomForestRegressor(n_estimators=100, random_state=42)\n",
        "model.fit(X_train,y_train)"
      ]
    },
    {
      "cell_type": "markdown",
      "metadata": {
        "id": "iuPr3-4CadG-"
      },
      "source": [
        "## Model Evaluation"
      ]
    },
    {
      "cell_type": "markdown",
      "metadata": {
        "id": "n1QGUftTadG-"
      },
      "source": [
        "<p align=\"justify\">Now that we have trained our model, the next step is to evaluate its performance. For evaluation, we will use the R² score, a common metric for regression models that measures how well the model explains the variance in the response variable (UHI index). Scikit-learn provides many other metrics that can be used for evaluation, and you can also write custom code for more specific evaluation needs.</p>\n"
      ]
    },
    {
      "cell_type": "markdown",
      "metadata": {
        "id": "17OlpaDjadG-"
      },
      "source": [
        "### In-Sample Evaluation\n",
        "<p align=\"justify\">We will be evaluating our model's performance using the R² score on the training data. It is important to note that this is in-sample performance testing, which involves evaluating the model on the training dataset. These metrics are not truly indicative of the model's ability to generalize. You should reserve testing on the test data before drawing final conclusions about your model's performance.</p>\n"
      ]
    },
    {
      "cell_type": "markdown",
      "metadata": {
        "id": "fC1IWHgKadG-"
      },
      "source": [
        "<p align=\"justify\">In this section, we make predictions on the training set and store them in the <b><i>insample_predictions</i></b> variable. The R² score is then calculated to gauge the model's performance on the training data. It is important to keep in mind that this evaluation is for the training set, and further testing on the test set is necessary to assess the model's generalizability.</p>\n"
      ]
    },
    {
      "cell_type": "code",
      "execution_count": null,
      "metadata": {
        "id": "tM7qaGC0adG-"
      },
      "outputs": [],
      "source": [
        "# Make predictions on the training data\n",
        "insample_predictions = model.predict(X_train)"
      ]
    },
    {
      "cell_type": "code",
      "execution_count": null,
      "metadata": {
        "id": "3tXLQ0_uadG-",
        "outputId": "8816fb8a-706e-451d-ebb1-59422f7bde9e"
      },
      "outputs": [
        {
          "data": {
            "text/plain": [
              "0.9173664684174189"
            ]
          },
          "execution_count": 17,
          "metadata": {},
          "output_type": "execute_result"
        }
      ],
      "source": [
        "# calculate R-squared score for in-sample predictions\n",
        "Y_train = y_train.tolist()\n",
        "r2_score(Y_train, insample_predictions)"
      ]
    },
    {
      "cell_type": "markdown",
      "metadata": {
        "id": "CfJP-lZPadG-"
      },
      "source": [
        "### Out-Sample Evaluation"
      ]
    },
    {
      "cell_type": "markdown",
      "metadata": {
        "id": "96m5TnJNadG-"
      },
      "source": [
        "When evaluating a machine learning model, it is essential to correctly and fairly evaluate the model's ability to generalize. This is because models have a tendency to overfit the dataset they are trained on. To estimate the out-of-sample performance, we will predict on the test data now."
      ]
    },
    {
      "cell_type": "code",
      "execution_count": null,
      "metadata": {
        "id": "LorjaASradG-"
      },
      "outputs": [],
      "source": [
        "# Make predictions on the test data\n",
        "outsample_predictions = model.predict(X_test)"
      ]
    },
    {
      "cell_type": "code",
      "execution_count": null,
      "metadata": {
        "id": "TTGxJ7sradG-",
        "outputId": "41e77c97-97d4-4f40-a8ab-5b4efa6e300a"
      },
      "outputs": [
        {
          "data": {
            "text/plain": [
              "0.39425438267522306"
            ]
          },
          "execution_count": 19,
          "metadata": {},
          "output_type": "execute_result"
        }
      ],
      "source": [
        "# calculate R-squared score for out-sample predictions\n",
        "Y_test = y_test.tolist()\n",
        "r2_score(Y_test, outsample_predictions)"
      ]
    },
    {
      "cell_type": "markdown",
      "metadata": {
        "id": "eFQ8Aax4adG_"
      },
      "source": [
        "## Submission"
      ]
    },
    {
      "cell_type": "markdown",
      "metadata": {
        "id": "FdFCRHtyadG_"
      },
      "source": [
        "Once you are satisfied with your model, you can proceed to make a submission. To do this, you will need to use your model to predict the Urban Heat Island (UHI) index for a set of test coordinates provided in the <b>\"Submission_template.csv\"</b> file and upload the results to the challenge platform."
      ]
    },
    {
      "cell_type": "code",
      "execution_count": null,
      "metadata": {
        "id": "ShmLEKDladG_",
        "outputId": "aa155d79-3a6c-42e0-e66a-36fe1d4af7ee"
      },
      "outputs": [
        {
          "data": {
            "text/html": [
              "<div>\n",
              "<style scoped>\n",
              "    .dataframe tbody tr th:only-of-type {\n",
              "        vertical-align: middle;\n",
              "    }\n",
              "\n",
              "    .dataframe tbody tr th {\n",
              "        vertical-align: top;\n",
              "    }\n",
              "\n",
              "    .dataframe thead th {\n",
              "        text-align: right;\n",
              "    }\n",
              "</style>\n",
              "<table border=\"1\" class=\"dataframe\">\n",
              "  <thead>\n",
              "    <tr style=\"text-align: right;\">\n",
              "      <th></th>\n",
              "      <th>Longitude</th>\n",
              "      <th>Latitude</th>\n",
              "      <th>UHI Index</th>\n",
              "    </tr>\n",
              "  </thead>\n",
              "  <tbody>\n",
              "    <tr>\n",
              "      <th>0</th>\n",
              "      <td>-73.971665</td>\n",
              "      <td>40.788763</td>\n",
              "      <td>NaN</td>\n",
              "    </tr>\n",
              "    <tr>\n",
              "      <th>1</th>\n",
              "      <td>-73.971928</td>\n",
              "      <td>40.788875</td>\n",
              "      <td>NaN</td>\n",
              "    </tr>\n",
              "    <tr>\n",
              "      <th>2</th>\n",
              "      <td>-73.967080</td>\n",
              "      <td>40.789080</td>\n",
              "      <td>NaN</td>\n",
              "    </tr>\n",
              "    <tr>\n",
              "      <th>3</th>\n",
              "      <td>-73.972550</td>\n",
              "      <td>40.789082</td>\n",
              "      <td>NaN</td>\n",
              "    </tr>\n",
              "    <tr>\n",
              "      <th>4</th>\n",
              "      <td>-73.969697</td>\n",
              "      <td>40.787953</td>\n",
              "      <td>NaN</td>\n",
              "    </tr>\n",
              "  </tbody>\n",
              "</table>\n",
              "</div>"
            ],
            "text/plain": [
              "   Longitude   Latitude  UHI Index\n",
              "0 -73.971665  40.788763        NaN\n",
              "1 -73.971928  40.788875        NaN\n",
              "2 -73.967080  40.789080        NaN\n",
              "3 -73.972550  40.789082        NaN\n",
              "4 -73.969697  40.787953        NaN"
            ]
          },
          "execution_count": 20,
          "metadata": {},
          "output_type": "execute_result"
        }
      ],
      "source": [
        "#Reading the coordinates for the submission\n",
        "test_file = pd.read_csv('Submission_template.csv')\n",
        "test_file.head()"
      ]
    },
    {
      "cell_type": "code",
      "execution_count": null,
      "metadata": {
        "id": "OOiD5FsZadG_",
        "outputId": "ffe019f9-66bc-43b4-e86d-76a7a229b6f8"
      },
      "outputs": [
        {
          "name": "stderr",
          "output_type": "stream",
          "text": [
            "Mapping values: 100%|██████████| 1040/1040 [00:01<00:00, 594.00it/s]\n"
          ]
        }
      ],
      "source": [
        "# Mapping satellite data for submission.\n",
        "val_data = map_satellite_data('S2_sample.tiff', 'Submission_template.csv')"
      ]
    },
    {
      "cell_type": "code",
      "execution_count": null,
      "metadata": {
        "id": "dWOF09RdadG_"
      },
      "outputs": [],
      "source": [
        "# Calculate NDVI (Normalized Difference Vegetation Index) and handle division by zero by replacing infinities with NaN.\n",
        "val_data['NDVI'] = (val_data['B08'] - val_data['B04']) / (val_data['B08'] + val_data['B04'])\n",
        "val_data['NDVI'] = val_data['NDVI'].replace([np.inf, -np.inf], np.nan)  # Replace infinities with NaN"
      ]
    },
    {
      "cell_type": "code",
      "execution_count": null,
      "metadata": {
        "id": "MuNiAYdvadG_",
        "outputId": "86e00ccd-882a-4603-b21b-788890ebca66"
      },
      "outputs": [
        {
          "data": {
            "text/html": [
              "<div>\n",
              "<style scoped>\n",
              "    .dataframe tbody tr th:only-of-type {\n",
              "        vertical-align: middle;\n",
              "    }\n",
              "\n",
              "    .dataframe tbody tr th {\n",
              "        vertical-align: top;\n",
              "    }\n",
              "\n",
              "    .dataframe thead th {\n",
              "        text-align: right;\n",
              "    }\n",
              "</style>\n",
              "<table border=\"1\" class=\"dataframe\">\n",
              "  <thead>\n",
              "    <tr style=\"text-align: right;\">\n",
              "      <th></th>\n",
              "      <th>B01</th>\n",
              "      <th>B04</th>\n",
              "      <th>B06</th>\n",
              "      <th>B08</th>\n",
              "      <th>NDVI</th>\n",
              "    </tr>\n",
              "  </thead>\n",
              "  <tbody>\n",
              "    <tr>\n",
              "      <th>0</th>\n",
              "      <td>811.0</td>\n",
              "      <td>432.0</td>\n",
              "      <td>2089.0</td>\n",
              "      <td>2502.0</td>\n",
              "      <td>0.705521</td>\n",
              "    </tr>\n",
              "    <tr>\n",
              "      <th>1</th>\n",
              "      <td>1208.0</td>\n",
              "      <td>647.0</td>\n",
              "      <td>2076.0</td>\n",
              "      <td>2906.0</td>\n",
              "      <td>0.635801</td>\n",
              "    </tr>\n",
              "    <tr>\n",
              "      <th>2</th>\n",
              "      <td>899.0</td>\n",
              "      <td>1188.0</td>\n",
              "      <td>995.0</td>\n",
              "      <td>1246.0</td>\n",
              "      <td>0.023829</td>\n",
              "    </tr>\n",
              "    <tr>\n",
              "      <th>3</th>\n",
              "      <td>1193.0</td>\n",
              "      <td>1512.0</td>\n",
              "      <td>1939.0</td>\n",
              "      <td>1774.0</td>\n",
              "      <td>0.079732</td>\n",
              "    </tr>\n",
              "    <tr>\n",
              "      <th>4</th>\n",
              "      <td>1097.0</td>\n",
              "      <td>1688.0</td>\n",
              "      <td>2204.0</td>\n",
              "      <td>2834.0</td>\n",
              "      <td>0.253428</td>\n",
              "    </tr>\n",
              "  </tbody>\n",
              "</table>\n",
              "</div>"
            ],
            "text/plain": [
              "      B01     B04     B06     B08      NDVI\n",
              "0   811.0   432.0  2089.0  2502.0  0.705521\n",
              "1  1208.0   647.0  2076.0  2906.0  0.635801\n",
              "2   899.0  1188.0   995.0  1246.0  0.023829\n",
              "3  1193.0  1512.0  1939.0  1774.0  0.079732\n",
              "4  1097.0  1688.0  2204.0  2834.0  0.253428"
            ]
          },
          "execution_count": 23,
          "metadata": {},
          "output_type": "execute_result"
        }
      ],
      "source": [
        "val_data.head()"
      ]
    },
    {
      "cell_type": "code",
      "execution_count": null,
      "metadata": {
        "id": "kYLvfaeFadG_",
        "outputId": "9b95d186-7adb-4fd9-986d-ed7cb7b29e3d"
      },
      "outputs": [
        {
          "data": {
            "text/html": [
              "<div>\n",
              "<style scoped>\n",
              "    .dataframe tbody tr th:only-of-type {\n",
              "        vertical-align: middle;\n",
              "    }\n",
              "\n",
              "    .dataframe tbody tr th {\n",
              "        vertical-align: top;\n",
              "    }\n",
              "\n",
              "    .dataframe thead th {\n",
              "        text-align: right;\n",
              "    }\n",
              "</style>\n",
              "<table border=\"1\" class=\"dataframe\">\n",
              "  <thead>\n",
              "    <tr style=\"text-align: right;\">\n",
              "      <th></th>\n",
              "      <th>B01</th>\n",
              "      <th>B06</th>\n",
              "      <th>NDVI</th>\n",
              "    </tr>\n",
              "  </thead>\n",
              "  <tbody>\n",
              "    <tr>\n",
              "      <th>0</th>\n",
              "      <td>811.0</td>\n",
              "      <td>2089.0</td>\n",
              "      <td>0.705521</td>\n",
              "    </tr>\n",
              "    <tr>\n",
              "      <th>1</th>\n",
              "      <td>1208.0</td>\n",
              "      <td>2076.0</td>\n",
              "      <td>0.635801</td>\n",
              "    </tr>\n",
              "    <tr>\n",
              "      <th>2</th>\n",
              "      <td>899.0</td>\n",
              "      <td>995.0</td>\n",
              "      <td>0.023829</td>\n",
              "    </tr>\n",
              "    <tr>\n",
              "      <th>3</th>\n",
              "      <td>1193.0</td>\n",
              "      <td>1939.0</td>\n",
              "      <td>0.079732</td>\n",
              "    </tr>\n",
              "    <tr>\n",
              "      <th>4</th>\n",
              "      <td>1097.0</td>\n",
              "      <td>2204.0</td>\n",
              "      <td>0.253428</td>\n",
              "    </tr>\n",
              "  </tbody>\n",
              "</table>\n",
              "</div>"
            ],
            "text/plain": [
              "      B01     B06      NDVI\n",
              "0   811.0  2089.0  0.705521\n",
              "1  1208.0  2076.0  0.635801\n",
              "2   899.0   995.0  0.023829\n",
              "3  1193.0  1939.0  0.079732\n",
              "4  1097.0  2204.0  0.253428"
            ]
          },
          "execution_count": 24,
          "metadata": {},
          "output_type": "execute_result"
        }
      ],
      "source": [
        "# Extracting specific columns (B01, B06, and NDVI) from the validation dataset\n",
        "submission_val_data=val_data.loc[:,['B01','B06','NDVI']]\n",
        "submission_val_data.head()"
      ]
    },
    {
      "cell_type": "code",
      "execution_count": null,
      "metadata": {
        "id": "9RMEI2XHadG_"
      },
      "outputs": [],
      "source": [
        "# Feature Scaling\n",
        "submission_val_data = submission_val_data.values\n",
        "transformed_submission_data = sc.transform(submission_val_data)"
      ]
    },
    {
      "cell_type": "code",
      "execution_count": null,
      "metadata": {
        "id": "4trBgHW8adG_"
      },
      "outputs": [],
      "source": [
        "#Making predictions\n",
        "final_predictions = model.predict(transformed_submission_data)\n",
        "final_prediction_series = pd.Series(final_predictions)"
      ]
    },
    {
      "cell_type": "code",
      "execution_count": null,
      "metadata": {
        "id": "ZU5A6SogadG_"
      },
      "outputs": [],
      "source": [
        "#Combining the results into dataframe\n",
        "submission_df = pd.DataFrame({'Longitude':test_file['Longitude'].values, 'Latitude':test_file['Latitude'].values, 'UHI Index':final_prediction_series.values})"
      ]
    },
    {
      "cell_type": "code",
      "execution_count": null,
      "metadata": {
        "id": "5FUsw78RadG_",
        "outputId": "76ec5231-1526-475d-9b37-f8b7bc38b9aa"
      },
      "outputs": [
        {
          "data": {
            "text/html": [
              "<div>\n",
              "<style scoped>\n",
              "    .dataframe tbody tr th:only-of-type {\n",
              "        vertical-align: middle;\n",
              "    }\n",
              "\n",
              "    .dataframe tbody tr th {\n",
              "        vertical-align: top;\n",
              "    }\n",
              "\n",
              "    .dataframe thead th {\n",
              "        text-align: right;\n",
              "    }\n",
              "</style>\n",
              "<table border=\"1\" class=\"dataframe\">\n",
              "  <thead>\n",
              "    <tr style=\"text-align: right;\">\n",
              "      <th></th>\n",
              "      <th>Longitude</th>\n",
              "      <th>Latitude</th>\n",
              "      <th>UHI Index</th>\n",
              "    </tr>\n",
              "  </thead>\n",
              "  <tbody>\n",
              "    <tr>\n",
              "      <th>0</th>\n",
              "      <td>-73.971665</td>\n",
              "      <td>40.788763</td>\n",
              "      <td>0.974508</td>\n",
              "    </tr>\n",
              "    <tr>\n",
              "      <th>1</th>\n",
              "      <td>-73.971928</td>\n",
              "      <td>40.788875</td>\n",
              "      <td>0.975031</td>\n",
              "    </tr>\n",
              "    <tr>\n",
              "      <th>2</th>\n",
              "      <td>-73.967080</td>\n",
              "      <td>40.789080</td>\n",
              "      <td>0.975424</td>\n",
              "    </tr>\n",
              "    <tr>\n",
              "      <th>3</th>\n",
              "      <td>-73.972550</td>\n",
              "      <td>40.789082</td>\n",
              "      <td>0.987028</td>\n",
              "    </tr>\n",
              "    <tr>\n",
              "      <th>4</th>\n",
              "      <td>-73.969697</td>\n",
              "      <td>40.787953</td>\n",
              "      <td>0.963467</td>\n",
              "    </tr>\n",
              "  </tbody>\n",
              "</table>\n",
              "</div>"
            ],
            "text/plain": [
              "   Longitude   Latitude  UHI Index\n",
              "0 -73.971665  40.788763   0.974508\n",
              "1 -73.971928  40.788875   0.975031\n",
              "2 -73.967080  40.789080   0.975424\n",
              "3 -73.972550  40.789082   0.987028\n",
              "4 -73.969697  40.787953   0.963467"
            ]
          },
          "execution_count": 28,
          "metadata": {},
          "output_type": "execute_result"
        }
      ],
      "source": [
        "#Displaying the sample submission dataframe\n",
        "submission_df.head()"
      ]
    },
    {
      "cell_type": "code",
      "execution_count": null,
      "metadata": {
        "id": "6SzSJ6TZadG_"
      },
      "outputs": [],
      "source": [
        "#Dumping the predictions into a csv file.\n",
        "submission_df.to_csv(\"submission.csv\",index = False)"
      ]
    },
    {
      "cell_type": "markdown",
      "metadata": {
        "id": "qLWqU8dHadG_"
      },
      "source": [
        "### Upload submission file on platform"
      ]
    },
    {
      "cell_type": "markdown",
      "metadata": {
        "id": "2Xmnspx_adG_"
      },
      "source": [
        "Upload the submission.csv on the <a href =\"https://challenge.ey.com\">platform</a> to get score generated on scoreboard."
      ]
    },
    {
      "cell_type": "markdown",
      "metadata": {
        "id": "G9_IjQ2zadHA"
      },
      "source": [
        "## Conclusion\n",
        "\n",
        "<div align =\"justify\">Now that you have learned a basic approach to model training, it’s time to try your own approach! Feel free to modify any of the functions presented in this notebook. We look forward to seeing your version of the model and the results. Best of luck with the challenge!</div>"
      ]
    }
  ],
  "metadata": {
    "kernelspec": {
      "display_name": "Python 3",
      "language": "python",
      "name": "python3"
    },
    "language_info": {
      "codemirror_mode": {
        "name": "ipython",
        "version": 3
      },
      "file_extension": ".py",
      "mimetype": "text/x-python",
      "name": "python",
      "nbconvert_exporter": "python",
      "pygments_lexer": "ipython3",
      "version": "3.10.11"
    },
    "colab": {
      "provenance": []
    }
  },
  "nbformat": 4,
  "nbformat_minor": 0
}